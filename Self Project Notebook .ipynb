{
 "cells": [
  {
   "cell_type": "markdown",
   "id": "a619fb3f",
   "metadata": {},
   "source": [
    "# Will the Telecom Customer Churn?- A Classification Analysis"
   ]
  },
  {
   "cell_type": "markdown",
   "id": "2d115b99",
   "metadata": {},
   "source": [
    "# Author: Soumik Karmakar"
   ]
  },
  {
   "cell_type": "markdown",
   "id": "d828d996",
   "metadata": {},
   "source": [
    "## Context:"
   ]
  },
  {
   "cell_type": "markdown",
   "id": "97103565",
   "metadata": {},
   "source": [
    "Data on customer behavior can provide valuable insights on future decisionsmade by a customer. Churn prediction models, for instance, identify customers”who stop using a product or service”. This is of high interest to productproviders since a large number of churning customers not only leads to a loss ofrevenue but can also have a negative impact on a company’s reputation."
   ]
  },
  {
   "cell_type": "markdown",
   "id": "6ee2cacf",
   "metadata": {},
   "source": [
    "We shall carry out our whole analysis in R. So we need to load some libraries,-"
   ]
  },
  {
   "cell_type": "code",
   "execution_count": 1,
   "id": "8009af53",
   "metadata": {},
   "outputs": [
    {
     "name": "stderr",
     "output_type": "stream",
     "text": [
      "Loading required package: lattice\n",
      "\n",
      "Loading required package: carData\n",
      "\n",
      "corrplot 0.89 loaded\n",
      "\n",
      "randomForest 4.6-14\n",
      "\n",
      "Type rfNews() to see new features/changes/bug fixes.\n",
      "\n",
      "\n",
      "Attaching package: 'randomForest'\n",
      "\n",
      "\n",
      "The following object is masked from 'package:ggplot2':\n",
      "\n",
      "    margin\n",
      "\n",
      "\n",
      "Type 'citation(\"pROC\")' for a citation.\n",
      "\n",
      "\n",
      "Attaching package: 'pROC'\n",
      "\n",
      "\n",
      "The following objects are masked from 'package:stats':\n",
      "\n",
      "    cov, smooth, var\n",
      "\n",
      "\n"
     ]
    }
   ],
   "source": [
    "library(ggplot2)\n",
    "library(leaps)\n",
    "library(caret)\n",
    "library(car)\n",
    "library(corrplot)\n",
    "library(tree)\n",
    "library(MASS)\n",
    "library(randomForest)\n",
    "library(pROC)\n",
    "library(tibble)\n",
    "library(cvms)\n",
    "library(e1071)"
   ]
  },
  {
   "cell_type": "markdown",
   "id": "f00fe0e7",
   "metadata": {},
   "source": [
    "##  Data Content:"
   ]
  },
  {
   "cell_type": "code",
   "execution_count": 8,
   "id": "cc476367",
   "metadata": {},
   "outputs": [
    {
     "data": {
      "text/html": [
       "<table class=\"dataframe\">\n",
       "<caption>A data.frame: 6 × 21</caption>\n",
       "<thead>\n",
       "\t<tr><th></th><th scope=col>customerID</th><th scope=col>gender</th><th scope=col>SeniorCitizen</th><th scope=col>Partner</th><th scope=col>Dependents</th><th scope=col>tenure</th><th scope=col>PhoneService</th><th scope=col>MultipleLines</th><th scope=col>InternetService</th><th scope=col>OnlineSecurity</th><th scope=col>...</th><th scope=col>DeviceProtection</th><th scope=col>TechSupport</th><th scope=col>StreamingTV</th><th scope=col>StreamingMovies</th><th scope=col>Contract</th><th scope=col>PaperlessBilling</th><th scope=col>PaymentMethod</th><th scope=col>MonthlyCharges</th><th scope=col>TotalCharges</th><th scope=col>Churn</th></tr>\n",
       "\t<tr><th></th><th scope=col>&lt;chr&gt;</th><th scope=col>&lt;chr&gt;</th><th scope=col>&lt;int&gt;</th><th scope=col>&lt;chr&gt;</th><th scope=col>&lt;chr&gt;</th><th scope=col>&lt;int&gt;</th><th scope=col>&lt;chr&gt;</th><th scope=col>&lt;chr&gt;</th><th scope=col>&lt;chr&gt;</th><th scope=col>&lt;chr&gt;</th><th scope=col>...</th><th scope=col>&lt;chr&gt;</th><th scope=col>&lt;chr&gt;</th><th scope=col>&lt;chr&gt;</th><th scope=col>&lt;chr&gt;</th><th scope=col>&lt;chr&gt;</th><th scope=col>&lt;chr&gt;</th><th scope=col>&lt;chr&gt;</th><th scope=col>&lt;dbl&gt;</th><th scope=col>&lt;dbl&gt;</th><th scope=col>&lt;chr&gt;</th></tr>\n",
       "</thead>\n",
       "<tbody>\n",
       "\t<tr><th scope=row>1</th><td>7590-VHVEG</td><td>Female</td><td>0</td><td>Yes</td><td>No</td><td> 1</td><td>No </td><td>No phone service</td><td>DSL        </td><td>No </td><td>...</td><td>No </td><td>No </td><td>No </td><td>No </td><td>Month-to-month</td><td>Yes</td><td>Electronic check         </td><td>29.85</td><td>  29.85</td><td>No </td></tr>\n",
       "\t<tr><th scope=row>2</th><td>5575-GNVDE</td><td>Male  </td><td>0</td><td>No </td><td>No</td><td>34</td><td>Yes</td><td>No              </td><td>DSL        </td><td>Yes</td><td>...</td><td>Yes</td><td>No </td><td>No </td><td>No </td><td>One year      </td><td>No </td><td>Mailed check             </td><td>56.95</td><td>1889.50</td><td>No </td></tr>\n",
       "\t<tr><th scope=row>3</th><td>3668-QPYBK</td><td>Male  </td><td>0</td><td>No </td><td>No</td><td> 2</td><td>Yes</td><td>No              </td><td>DSL        </td><td>Yes</td><td>...</td><td>No </td><td>No </td><td>No </td><td>No </td><td>Month-to-month</td><td>Yes</td><td>Mailed check             </td><td>53.85</td><td> 108.15</td><td>Yes</td></tr>\n",
       "\t<tr><th scope=row>4</th><td>7795-CFOCW</td><td>Male  </td><td>0</td><td>No </td><td>No</td><td>45</td><td>No </td><td>No phone service</td><td>DSL        </td><td>Yes</td><td>...</td><td>Yes</td><td>Yes</td><td>No </td><td>No </td><td>One year      </td><td>No </td><td>Bank transfer (automatic)</td><td>42.30</td><td>1840.75</td><td>No </td></tr>\n",
       "\t<tr><th scope=row>5</th><td>9237-HQITU</td><td>Female</td><td>0</td><td>No </td><td>No</td><td> 2</td><td>Yes</td><td>No              </td><td>Fiber optic</td><td>No </td><td>...</td><td>No </td><td>No </td><td>No </td><td>No </td><td>Month-to-month</td><td>Yes</td><td>Electronic check         </td><td>70.70</td><td> 151.65</td><td>Yes</td></tr>\n",
       "\t<tr><th scope=row>6</th><td>9305-CDSKC</td><td>Female</td><td>0</td><td>No </td><td>No</td><td> 8</td><td>Yes</td><td>Yes             </td><td>Fiber optic</td><td>No </td><td>...</td><td>Yes</td><td>No </td><td>Yes</td><td>Yes</td><td>Month-to-month</td><td>Yes</td><td>Electronic check         </td><td>99.65</td><td> 820.50</td><td>Yes</td></tr>\n",
       "</tbody>\n",
       "</table>\n"
      ],
      "text/latex": [
       "A data.frame: 6 × 21\n",
       "\\begin{tabular}{r|lllllllllllllllllllll}\n",
       "  & customerID & gender & SeniorCitizen & Partner & Dependents & tenure & PhoneService & MultipleLines & InternetService & OnlineSecurity & ... & DeviceProtection & TechSupport & StreamingTV & StreamingMovies & Contract & PaperlessBilling & PaymentMethod & MonthlyCharges & TotalCharges & Churn\\\\\n",
       "  & <chr> & <chr> & <int> & <chr> & <chr> & <int> & <chr> & <chr> & <chr> & <chr> & ... & <chr> & <chr> & <chr> & <chr> & <chr> & <chr> & <chr> & <dbl> & <dbl> & <chr>\\\\\n",
       "\\hline\n",
       "\t1 & 7590-VHVEG & Female & 0 & Yes & No &  1 & No  & No phone service & DSL         & No  & ... & No  & No  & No  & No  & Month-to-month & Yes & Electronic check          & 29.85 &   29.85 & No \\\\\n",
       "\t2 & 5575-GNVDE & Male   & 0 & No  & No & 34 & Yes & No               & DSL         & Yes & ... & Yes & No  & No  & No  & One year       & No  & Mailed check              & 56.95 & 1889.50 & No \\\\\n",
       "\t3 & 3668-QPYBK & Male   & 0 & No  & No &  2 & Yes & No               & DSL         & Yes & ... & No  & No  & No  & No  & Month-to-month & Yes & Mailed check              & 53.85 &  108.15 & Yes\\\\\n",
       "\t4 & 7795-CFOCW & Male   & 0 & No  & No & 45 & No  & No phone service & DSL         & Yes & ... & Yes & Yes & No  & No  & One year       & No  & Bank transfer (automatic) & 42.30 & 1840.75 & No \\\\\n",
       "\t5 & 9237-HQITU & Female & 0 & No  & No &  2 & Yes & No               & Fiber optic & No  & ... & No  & No  & No  & No  & Month-to-month & Yes & Electronic check          & 70.70 &  151.65 & Yes\\\\\n",
       "\t6 & 9305-CDSKC & Female & 0 & No  & No &  8 & Yes & Yes              & Fiber optic & No  & ... & Yes & No  & Yes & Yes & Month-to-month & Yes & Electronic check          & 99.65 &  820.50 & Yes\\\\\n",
       "\\end{tabular}\n"
      ],
      "text/markdown": [
       "\n",
       "A data.frame: 6 × 21\n",
       "\n",
       "| <!--/--> | customerID &lt;chr&gt; | gender &lt;chr&gt; | SeniorCitizen &lt;int&gt; | Partner &lt;chr&gt; | Dependents &lt;chr&gt; | tenure &lt;int&gt; | PhoneService &lt;chr&gt; | MultipleLines &lt;chr&gt; | InternetService &lt;chr&gt; | OnlineSecurity &lt;chr&gt; | ... ... | DeviceProtection &lt;chr&gt; | TechSupport &lt;chr&gt; | StreamingTV &lt;chr&gt; | StreamingMovies &lt;chr&gt; | Contract &lt;chr&gt; | PaperlessBilling &lt;chr&gt; | PaymentMethod &lt;chr&gt; | MonthlyCharges &lt;dbl&gt; | TotalCharges &lt;dbl&gt; | Churn &lt;chr&gt; |\n",
       "|---|---|---|---|---|---|---|---|---|---|---|---|---|---|---|---|---|---|---|---|---|---|\n",
       "| 1 | 7590-VHVEG | Female | 0 | Yes | No |  1 | No  | No phone service | DSL         | No  | ... | No  | No  | No  | No  | Month-to-month | Yes | Electronic check          | 29.85 |   29.85 | No  |\n",
       "| 2 | 5575-GNVDE | Male   | 0 | No  | No | 34 | Yes | No               | DSL         | Yes | ... | Yes | No  | No  | No  | One year       | No  | Mailed check              | 56.95 | 1889.50 | No  |\n",
       "| 3 | 3668-QPYBK | Male   | 0 | No  | No |  2 | Yes | No               | DSL         | Yes | ... | No  | No  | No  | No  | Month-to-month | Yes | Mailed check              | 53.85 |  108.15 | Yes |\n",
       "| 4 | 7795-CFOCW | Male   | 0 | No  | No | 45 | No  | No phone service | DSL         | Yes | ... | Yes | Yes | No  | No  | One year       | No  | Bank transfer (automatic) | 42.30 | 1840.75 | No  |\n",
       "| 5 | 9237-HQITU | Female | 0 | No  | No |  2 | Yes | No               | Fiber optic | No  | ... | No  | No  | No  | No  | Month-to-month | Yes | Electronic check          | 70.70 |  151.65 | Yes |\n",
       "| 6 | 9305-CDSKC | Female | 0 | No  | No |  8 | Yes | Yes              | Fiber optic | No  | ... | Yes | No  | Yes | Yes | Month-to-month | Yes | Electronic check          | 99.65 |  820.50 | Yes |\n",
       "\n"
      ],
      "text/plain": [
       "  customerID gender SeniorCitizen Partner Dependents tenure PhoneService\n",
       "1 7590-VHVEG Female 0             Yes     No          1     No          \n",
       "2 5575-GNVDE Male   0             No      No         34     Yes         \n",
       "3 3668-QPYBK Male   0             No      No          2     Yes         \n",
       "4 7795-CFOCW Male   0             No      No         45     No          \n",
       "5 9237-HQITU Female 0             No      No          2     Yes         \n",
       "6 9305-CDSKC Female 0             No      No          8     Yes         \n",
       "  MultipleLines    InternetService OnlineSecurity ... DeviceProtection\n",
       "1 No phone service DSL             No             ... No              \n",
       "2 No               DSL             Yes            ... Yes             \n",
       "3 No               DSL             Yes            ... No              \n",
       "4 No phone service DSL             Yes            ... Yes             \n",
       "5 No               Fiber optic     No             ... No              \n",
       "6 Yes              Fiber optic     No             ... Yes             \n",
       "  TechSupport StreamingTV StreamingMovies Contract       PaperlessBilling\n",
       "1 No          No          No              Month-to-month Yes             \n",
       "2 No          No          No              One year       No              \n",
       "3 No          No          No              Month-to-month Yes             \n",
       "4 Yes         No          No              One year       No              \n",
       "5 No          No          No              Month-to-month Yes             \n",
       "6 No          Yes         Yes             Month-to-month Yes             \n",
       "  PaymentMethod             MonthlyCharges TotalCharges Churn\n",
       "1 Electronic check          29.85            29.85      No   \n",
       "2 Mailed check              56.95          1889.50      No   \n",
       "3 Mailed check              53.85           108.15      Yes  \n",
       "4 Bank transfer (automatic) 42.30          1840.75      No   \n",
       "5 Electronic check          70.70           151.65      Yes  \n",
       "6 Electronic check          99.65           820.50      Yes  "
      ]
     },
     "metadata": {},
     "output_type": "display_data"
    },
    {
     "data": {
      "text/html": [
       "<style>\n",
       ".list-inline {list-style: none; margin:0; padding: 0}\n",
       ".list-inline>li {display: inline-block}\n",
       ".list-inline>li:not(:last-child)::after {content: \"\\00b7\"; padding: 0 .5ex}\n",
       "</style>\n",
       "<ol class=list-inline><li>7043</li><li>21</li></ol>\n"
      ],
      "text/latex": [
       "\\begin{enumerate*}\n",
       "\\item 7043\n",
       "\\item 21\n",
       "\\end{enumerate*}\n"
      ],
      "text/markdown": [
       "1. 7043\n",
       "2. 21\n",
       "\n",
       "\n"
      ],
      "text/plain": [
       "[1] 7043   21"
      ]
     },
     "metadata": {},
     "output_type": "display_data"
    },
    {
     "name": "stdout",
     "output_type": "stream",
     "text": [
      "'data.frame':\t7043 obs. of  21 variables:\n",
      " $ customerID      : chr  \"7590-VHVEG\" \"5575-GNVDE\" \"3668-QPYBK\" \"7795-CFOCW\" ...\n",
      " $ gender          : chr  \"Female\" \"Male\" \"Male\" \"Male\" ...\n",
      " $ SeniorCitizen   : int  0 0 0 0 0 0 0 0 0 0 ...\n",
      " $ Partner         : chr  \"Yes\" \"No\" \"No\" \"No\" ...\n",
      " $ Dependents      : chr  \"No\" \"No\" \"No\" \"No\" ...\n",
      " $ tenure          : int  1 34 2 45 2 8 22 10 28 62 ...\n",
      " $ PhoneService    : chr  \"No\" \"Yes\" \"Yes\" \"No\" ...\n",
      " $ MultipleLines   : chr  \"No phone service\" \"No\" \"No\" \"No phone service\" ...\n",
      " $ InternetService : chr  \"DSL\" \"DSL\" \"DSL\" \"DSL\" ...\n",
      " $ OnlineSecurity  : chr  \"No\" \"Yes\" \"Yes\" \"Yes\" ...\n",
      " $ OnlineBackup    : chr  \"Yes\" \"No\" \"Yes\" \"No\" ...\n",
      " $ DeviceProtection: chr  \"No\" \"Yes\" \"No\" \"Yes\" ...\n",
      " $ TechSupport     : chr  \"No\" \"No\" \"No\" \"Yes\" ...\n",
      " $ StreamingTV     : chr  \"No\" \"No\" \"No\" \"No\" ...\n",
      " $ StreamingMovies : chr  \"No\" \"No\" \"No\" \"No\" ...\n",
      " $ Contract        : chr  \"Month-to-month\" \"One year\" \"Month-to-month\" \"One year\" ...\n",
      " $ PaperlessBilling: chr  \"Yes\" \"No\" \"Yes\" \"No\" ...\n",
      " $ PaymentMethod   : chr  \"Electronic check\" \"Mailed check\" \"Mailed check\" \"Bank transfer (automatic)\" ...\n",
      " $ MonthlyCharges  : num  29.9 57 53.9 42.3 70.7 ...\n",
      " $ TotalCharges    : num  29.9 1889.5 108.2 1840.8 151.7 ...\n",
      " $ Churn           : chr  \"No\" \"No\" \"Yes\" \"No\" ...\n"
     ]
    }
   ],
   "source": [
    "df <- read.csv(\"E:/IIT Kanpur/Self Project/Project_data.csv.csv\")\n",
    "head(df)\n",
    "dim(df)\n",
    "str(df)\n",
    "n <- nrow(df)"
   ]
  },
  {
   "cell_type": "markdown",
   "id": "801b0bc9",
   "metadata": {},
   "source": [
    "We have 7043 rows and 21 columns. Each row represents a customer, each column contains customer’s attributes described on the column Metadata.\n",
    "\n",
    "The data set includes information about:\n",
    "\n",
    "Customers who left within the last month – the column is called Churn\n",
    "Services that each customer has signed up for – phone, multiple lines, internet, online security, online backup, device protection, tech support, and streaming TV and movies\n",
    "Customer account information – how long they’ve been a customer, contract, payment method, paperless billing, monthly charges, and total charges\n",
    "Demographic info about customers – gender, age range, and if they have partners and dependents"
   ]
  },
  {
   "cell_type": "markdown",
   "id": "31353f1f",
   "metadata": {},
   "source": [
    "##  Data Preprocessing:"
   ]
  },
  {
   "cell_type": "markdown",
   "id": "5f9578fa",
   "metadata": {},
   "source": [
    "We see that, the id column will not help us in our analysis, so we remove thatcolumn from our dataset."
   ]
  },
  {
   "cell_type": "code",
   "execution_count": 9,
   "id": "e9565533",
   "metadata": {},
   "outputs": [
    {
     "data": {
      "text/html": [
       "<style>\n",
       ".list-inline {list-style: none; margin:0; padding: 0}\n",
       ".list-inline>li {display: inline-block}\n",
       ".list-inline>li:not(:last-child)::after {content: \"\\00b7\"; padding: 0 .5ex}\n",
       "</style>\n",
       "<ol class=list-inline><li>'customerID'</li><li>'gender'</li><li>'SeniorCitizen'</li><li>'Partner'</li><li>'Dependents'</li><li>'tenure'</li><li>'PhoneService'</li><li>'MultipleLines'</li><li>'InternetService'</li><li>'OnlineSecurity'</li><li>'OnlineBackup'</li><li>'DeviceProtection'</li><li>'TechSupport'</li><li>'StreamingTV'</li><li>'StreamingMovies'</li><li>'Contract'</li><li>'PaperlessBilling'</li><li>'PaymentMethod'</li><li>'MonthlyCharges'</li><li>'TotalCharges'</li><li>'Churn'</li></ol>\n"
      ],
      "text/latex": [
       "\\begin{enumerate*}\n",
       "\\item 'customerID'\n",
       "\\item 'gender'\n",
       "\\item 'SeniorCitizen'\n",
       "\\item 'Partner'\n",
       "\\item 'Dependents'\n",
       "\\item 'tenure'\n",
       "\\item 'PhoneService'\n",
       "\\item 'MultipleLines'\n",
       "\\item 'InternetService'\n",
       "\\item 'OnlineSecurity'\n",
       "\\item 'OnlineBackup'\n",
       "\\item 'DeviceProtection'\n",
       "\\item 'TechSupport'\n",
       "\\item 'StreamingTV'\n",
       "\\item 'StreamingMovies'\n",
       "\\item 'Contract'\n",
       "\\item 'PaperlessBilling'\n",
       "\\item 'PaymentMethod'\n",
       "\\item 'MonthlyCharges'\n",
       "\\item 'TotalCharges'\n",
       "\\item 'Churn'\n",
       "\\end{enumerate*}\n"
      ],
      "text/markdown": [
       "1. 'customerID'\n",
       "2. 'gender'\n",
       "3. 'SeniorCitizen'\n",
       "4. 'Partner'\n",
       "5. 'Dependents'\n",
       "6. 'tenure'\n",
       "7. 'PhoneService'\n",
       "8. 'MultipleLines'\n",
       "9. 'InternetService'\n",
       "10. 'OnlineSecurity'\n",
       "11. 'OnlineBackup'\n",
       "12. 'DeviceProtection'\n",
       "13. 'TechSupport'\n",
       "14. 'StreamingTV'\n",
       "15. 'StreamingMovies'\n",
       "16. 'Contract'\n",
       "17. 'PaperlessBilling'\n",
       "18. 'PaymentMethod'\n",
       "19. 'MonthlyCharges'\n",
       "20. 'TotalCharges'\n",
       "21. 'Churn'\n",
       "\n",
       "\n"
      ],
      "text/plain": [
       " [1] \"customerID\"       \"gender\"           \"SeniorCitizen\"    \"Partner\"         \n",
       " [5] \"Dependents\"       \"tenure\"           \"PhoneService\"     \"MultipleLines\"   \n",
       " [9] \"InternetService\"  \"OnlineSecurity\"   \"OnlineBackup\"     \"DeviceProtection\"\n",
       "[13] \"TechSupport\"      \"StreamingTV\"      \"StreamingMovies\"  \"Contract\"        \n",
       "[17] \"PaperlessBilling\" \"PaymentMethod\"    \"MonthlyCharges\"   \"TotalCharges\"    \n",
       "[21] \"Churn\"           "
      ]
     },
     "metadata": {},
     "output_type": "display_data"
    },
    {
     "data": {
      "text/html": [
       "<table class=\"dataframe\">\n",
       "<caption>A data.frame: 6 × 20</caption>\n",
       "<thead>\n",
       "\t<tr><th></th><th scope=col>gender</th><th scope=col>SeniorCitizen</th><th scope=col>Partner</th><th scope=col>Dependents</th><th scope=col>tenure</th><th scope=col>PhoneService</th><th scope=col>MultipleLines</th><th scope=col>InternetService</th><th scope=col>OnlineSecurity</th><th scope=col>OnlineBackup</th><th scope=col>DeviceProtection</th><th scope=col>TechSupport</th><th scope=col>StreamingTV</th><th scope=col>StreamingMovies</th><th scope=col>Contract</th><th scope=col>PaperlessBilling</th><th scope=col>PaymentMethod</th><th scope=col>MonthlyCharges</th><th scope=col>TotalCharges</th><th scope=col>Churn</th></tr>\n",
       "\t<tr><th></th><th scope=col>&lt;chr&gt;</th><th scope=col>&lt;int&gt;</th><th scope=col>&lt;chr&gt;</th><th scope=col>&lt;chr&gt;</th><th scope=col>&lt;int&gt;</th><th scope=col>&lt;chr&gt;</th><th scope=col>&lt;chr&gt;</th><th scope=col>&lt;chr&gt;</th><th scope=col>&lt;chr&gt;</th><th scope=col>&lt;chr&gt;</th><th scope=col>&lt;chr&gt;</th><th scope=col>&lt;chr&gt;</th><th scope=col>&lt;chr&gt;</th><th scope=col>&lt;chr&gt;</th><th scope=col>&lt;chr&gt;</th><th scope=col>&lt;chr&gt;</th><th scope=col>&lt;chr&gt;</th><th scope=col>&lt;dbl&gt;</th><th scope=col>&lt;dbl&gt;</th><th scope=col>&lt;chr&gt;</th></tr>\n",
       "</thead>\n",
       "<tbody>\n",
       "\t<tr><th scope=row>1</th><td>Female</td><td>0</td><td>Yes</td><td>No</td><td> 1</td><td>No </td><td>No phone service</td><td>DSL        </td><td>No </td><td>Yes</td><td>No </td><td>No </td><td>No </td><td>No </td><td>Month-to-month</td><td>Yes</td><td>Electronic check         </td><td>29.85</td><td>  29.85</td><td>No </td></tr>\n",
       "\t<tr><th scope=row>2</th><td>Male  </td><td>0</td><td>No </td><td>No</td><td>34</td><td>Yes</td><td>No              </td><td>DSL        </td><td>Yes</td><td>No </td><td>Yes</td><td>No </td><td>No </td><td>No </td><td>One year      </td><td>No </td><td>Mailed check             </td><td>56.95</td><td>1889.50</td><td>No </td></tr>\n",
       "\t<tr><th scope=row>3</th><td>Male  </td><td>0</td><td>No </td><td>No</td><td> 2</td><td>Yes</td><td>No              </td><td>DSL        </td><td>Yes</td><td>Yes</td><td>No </td><td>No </td><td>No </td><td>No </td><td>Month-to-month</td><td>Yes</td><td>Mailed check             </td><td>53.85</td><td> 108.15</td><td>Yes</td></tr>\n",
       "\t<tr><th scope=row>4</th><td>Male  </td><td>0</td><td>No </td><td>No</td><td>45</td><td>No </td><td>No phone service</td><td>DSL        </td><td>Yes</td><td>No </td><td>Yes</td><td>Yes</td><td>No </td><td>No </td><td>One year      </td><td>No </td><td>Bank transfer (automatic)</td><td>42.30</td><td>1840.75</td><td>No </td></tr>\n",
       "\t<tr><th scope=row>5</th><td>Female</td><td>0</td><td>No </td><td>No</td><td> 2</td><td>Yes</td><td>No              </td><td>Fiber optic</td><td>No </td><td>No </td><td>No </td><td>No </td><td>No </td><td>No </td><td>Month-to-month</td><td>Yes</td><td>Electronic check         </td><td>70.70</td><td> 151.65</td><td>Yes</td></tr>\n",
       "\t<tr><th scope=row>6</th><td>Female</td><td>0</td><td>No </td><td>No</td><td> 8</td><td>Yes</td><td>Yes             </td><td>Fiber optic</td><td>No </td><td>No </td><td>Yes</td><td>No </td><td>Yes</td><td>Yes</td><td>Month-to-month</td><td>Yes</td><td>Electronic check         </td><td>99.65</td><td> 820.50</td><td>Yes</td></tr>\n",
       "</tbody>\n",
       "</table>\n"
      ],
      "text/latex": [
       "A data.frame: 6 × 20\n",
       "\\begin{tabular}{r|llllllllllllllllllll}\n",
       "  & gender & SeniorCitizen & Partner & Dependents & tenure & PhoneService & MultipleLines & InternetService & OnlineSecurity & OnlineBackup & DeviceProtection & TechSupport & StreamingTV & StreamingMovies & Contract & PaperlessBilling & PaymentMethod & MonthlyCharges & TotalCharges & Churn\\\\\n",
       "  & <chr> & <int> & <chr> & <chr> & <int> & <chr> & <chr> & <chr> & <chr> & <chr> & <chr> & <chr> & <chr> & <chr> & <chr> & <chr> & <chr> & <dbl> & <dbl> & <chr>\\\\\n",
       "\\hline\n",
       "\t1 & Female & 0 & Yes & No &  1 & No  & No phone service & DSL         & No  & Yes & No  & No  & No  & No  & Month-to-month & Yes & Electronic check          & 29.85 &   29.85 & No \\\\\n",
       "\t2 & Male   & 0 & No  & No & 34 & Yes & No               & DSL         & Yes & No  & Yes & No  & No  & No  & One year       & No  & Mailed check              & 56.95 & 1889.50 & No \\\\\n",
       "\t3 & Male   & 0 & No  & No &  2 & Yes & No               & DSL         & Yes & Yes & No  & No  & No  & No  & Month-to-month & Yes & Mailed check              & 53.85 &  108.15 & Yes\\\\\n",
       "\t4 & Male   & 0 & No  & No & 45 & No  & No phone service & DSL         & Yes & No  & Yes & Yes & No  & No  & One year       & No  & Bank transfer (automatic) & 42.30 & 1840.75 & No \\\\\n",
       "\t5 & Female & 0 & No  & No &  2 & Yes & No               & Fiber optic & No  & No  & No  & No  & No  & No  & Month-to-month & Yes & Electronic check          & 70.70 &  151.65 & Yes\\\\\n",
       "\t6 & Female & 0 & No  & No &  8 & Yes & Yes              & Fiber optic & No  & No  & Yes & No  & Yes & Yes & Month-to-month & Yes & Electronic check          & 99.65 &  820.50 & Yes\\\\\n",
       "\\end{tabular}\n"
      ],
      "text/markdown": [
       "\n",
       "A data.frame: 6 × 20\n",
       "\n",
       "| <!--/--> | gender &lt;chr&gt; | SeniorCitizen &lt;int&gt; | Partner &lt;chr&gt; | Dependents &lt;chr&gt; | tenure &lt;int&gt; | PhoneService &lt;chr&gt; | MultipleLines &lt;chr&gt; | InternetService &lt;chr&gt; | OnlineSecurity &lt;chr&gt; | OnlineBackup &lt;chr&gt; | DeviceProtection &lt;chr&gt; | TechSupport &lt;chr&gt; | StreamingTV &lt;chr&gt; | StreamingMovies &lt;chr&gt; | Contract &lt;chr&gt; | PaperlessBilling &lt;chr&gt; | PaymentMethod &lt;chr&gt; | MonthlyCharges &lt;dbl&gt; | TotalCharges &lt;dbl&gt; | Churn &lt;chr&gt; |\n",
       "|---|---|---|---|---|---|---|---|---|---|---|---|---|---|---|---|---|---|---|---|---|\n",
       "| 1 | Female | 0 | Yes | No |  1 | No  | No phone service | DSL         | No  | Yes | No  | No  | No  | No  | Month-to-month | Yes | Electronic check          | 29.85 |   29.85 | No  |\n",
       "| 2 | Male   | 0 | No  | No | 34 | Yes | No               | DSL         | Yes | No  | Yes | No  | No  | No  | One year       | No  | Mailed check              | 56.95 | 1889.50 | No  |\n",
       "| 3 | Male   | 0 | No  | No |  2 | Yes | No               | DSL         | Yes | Yes | No  | No  | No  | No  | Month-to-month | Yes | Mailed check              | 53.85 |  108.15 | Yes |\n",
       "| 4 | Male   | 0 | No  | No | 45 | No  | No phone service | DSL         | Yes | No  | Yes | Yes | No  | No  | One year       | No  | Bank transfer (automatic) | 42.30 | 1840.75 | No  |\n",
       "| 5 | Female | 0 | No  | No |  2 | Yes | No               | Fiber optic | No  | No  | No  | No  | No  | No  | Month-to-month | Yes | Electronic check          | 70.70 |  151.65 | Yes |\n",
       "| 6 | Female | 0 | No  | No |  8 | Yes | Yes              | Fiber optic | No  | No  | Yes | No  | Yes | Yes | Month-to-month | Yes | Electronic check          | 99.65 |  820.50 | Yes |\n",
       "\n"
      ],
      "text/plain": [
       "  gender SeniorCitizen Partner Dependents tenure PhoneService MultipleLines   \n",
       "1 Female 0             Yes     No          1     No           No phone service\n",
       "2 Male   0             No      No         34     Yes          No              \n",
       "3 Male   0             No      No          2     Yes          No              \n",
       "4 Male   0             No      No         45     No           No phone service\n",
       "5 Female 0             No      No          2     Yes          No              \n",
       "6 Female 0             No      No          8     Yes          Yes             \n",
       "  InternetService OnlineSecurity OnlineBackup DeviceProtection TechSupport\n",
       "1 DSL             No             Yes          No               No         \n",
       "2 DSL             Yes            No           Yes              No         \n",
       "3 DSL             Yes            Yes          No               No         \n",
       "4 DSL             Yes            No           Yes              Yes        \n",
       "5 Fiber optic     No             No           No               No         \n",
       "6 Fiber optic     No             No           Yes              No         \n",
       "  StreamingTV StreamingMovies Contract       PaperlessBilling\n",
       "1 No          No              Month-to-month Yes             \n",
       "2 No          No              One year       No              \n",
       "3 No          No              Month-to-month Yes             \n",
       "4 No          No              One year       No              \n",
       "5 No          No              Month-to-month Yes             \n",
       "6 Yes         Yes             Month-to-month Yes             \n",
       "  PaymentMethod             MonthlyCharges TotalCharges Churn\n",
       "1 Electronic check          29.85            29.85      No   \n",
       "2 Mailed check              56.95          1889.50      No   \n",
       "3 Mailed check              53.85           108.15      Yes  \n",
       "4 Bank transfer (automatic) 42.30          1840.75      No   \n",
       "5 Electronic check          70.70           151.65      Yes  \n",
       "6 Electronic check          99.65           820.50      Yes  "
      ]
     },
     "metadata": {},
     "output_type": "display_data"
    }
   ],
   "source": [
    "colnames(df)\n",
    "df <- df[-which(colnames(df) == 'customerID')]\n",
    "head(df)"
   ]
  },
  {
   "cell_type": "markdown",
   "id": "8183ba0c",
   "metadata": {},
   "source": [
    "*  **Missing Value Imputation:**"
   ]
  },
  {
   "cell_type": "code",
   "execution_count": 10,
   "id": "227a0f7c",
   "metadata": {},
   "outputs": [
    {
     "data": {
      "text/html": [
       "<style>\n",
       ".list-inline {list-style: none; margin:0; padding: 0}\n",
       ".list-inline>li {display: inline-block}\n",
       ".list-inline>li:not(:last-child)::after {content: \"\\00b7\"; padding: 0 .5ex}\n",
       "</style>\n",
       "<ol class=list-inline><li>489</li><li>754</li><li>937</li><li>1083</li><li>1341</li><li>3332</li><li>3827</li><li>4381</li><li>5219</li><li>6671</li><li>6755</li></ol>\n"
      ],
      "text/latex": [
       "\\begin{enumerate*}\n",
       "\\item 489\n",
       "\\item 754\n",
       "\\item 937\n",
       "\\item 1083\n",
       "\\item 1341\n",
       "\\item 3332\n",
       "\\item 3827\n",
       "\\item 4381\n",
       "\\item 5219\n",
       "\\item 6671\n",
       "\\item 6755\n",
       "\\end{enumerate*}\n"
      ],
      "text/markdown": [
       "1. 489\n",
       "2. 754\n",
       "3. 937\n",
       "4. 1083\n",
       "5. 1341\n",
       "6. 3332\n",
       "7. 3827\n",
       "8. 4381\n",
       "9. 5219\n",
       "10. 6671\n",
       "11. 6755\n",
       "\n",
       "\n"
      ],
      "text/plain": [
       " [1]  489  754  937 1083 1341 3332 3827 4381 5219 6671 6755"
      ]
     },
     "metadata": {},
     "output_type": "display_data"
    }
   ],
   "source": [
    "df$TotalCharges <- as.numeric(df$TotalCharges)\n",
    "miss = which(is.na(df$TotalCharges) == TRUE)\n",
    "miss"
   ]
  },
  {
   "cell_type": "markdown",
   "id": "2b19210c",
   "metadata": {},
   "source": [
    "We can see that there are missing values in the data. So, we replace those missing values by replacing them with the median of the respective columns."
   ]
  },
  {
   "cell_type": "code",
   "execution_count": 11,
   "id": "791aaefd",
   "metadata": {},
   "outputs": [
    {
     "name": "stdout",
     "output_type": "stream",
     "text": [
      "'data.frame':\t7043 obs. of  20 variables:\n",
      " $ gender          : chr  \"Female\" \"Male\" \"Male\" \"Male\" ...\n",
      " $ SeniorCitizen   : int  0 0 0 0 0 0 0 0 0 0 ...\n",
      " $ Partner         : chr  \"Yes\" \"No\" \"No\" \"No\" ...\n",
      " $ Dependents      : chr  \"No\" \"No\" \"No\" \"No\" ...\n",
      " $ tenure          : int  1 34 2 45 2 8 22 10 28 62 ...\n",
      " $ PhoneService    : chr  \"No\" \"Yes\" \"Yes\" \"No\" ...\n",
      " $ MultipleLines   : chr  \"No phone service\" \"No\" \"No\" \"No phone service\" ...\n",
      " $ InternetService : chr  \"DSL\" \"DSL\" \"DSL\" \"DSL\" ...\n",
      " $ OnlineSecurity  : chr  \"No\" \"Yes\" \"Yes\" \"Yes\" ...\n",
      " $ OnlineBackup    : chr  \"Yes\" \"No\" \"Yes\" \"No\" ...\n",
      " $ DeviceProtection: chr  \"No\" \"Yes\" \"No\" \"Yes\" ...\n",
      " $ TechSupport     : chr  \"No\" \"No\" \"No\" \"Yes\" ...\n",
      " $ StreamingTV     : chr  \"No\" \"No\" \"No\" \"No\" ...\n",
      " $ StreamingMovies : chr  \"No\" \"No\" \"No\" \"No\" ...\n",
      " $ Contract        : chr  \"Month-to-month\" \"One year\" \"Month-to-month\" \"One year\" ...\n",
      " $ PaperlessBilling: chr  \"Yes\" \"No\" \"Yes\" \"No\" ...\n",
      " $ PaymentMethod   : chr  \"Electronic check\" \"Mailed check\" \"Mailed check\" \"Bank transfer (automatic)\" ...\n",
      " $ MonthlyCharges  : num  29.9 57 53.9 42.3 70.7 ...\n",
      " $ TotalCharges    : num  29.9 1889.5 108.2 1840.8 151.7 ...\n",
      " $ Churn           : chr  \"No\" \"No\" \"Yes\" \"No\" ...\n"
     ]
    },
    {
     "data": {
      "text/html": [
       "0"
      ],
      "text/latex": [
       "0"
      ],
      "text/markdown": [
       "0"
      ],
      "text/plain": [
       "[1] 0"
      ]
     },
     "metadata": {},
     "output_type": "display_data"
    }
   ],
   "source": [
    "df$TotalCharges[miss] <- median(df$TotalCharges, na.rm = TRUE) \n",
    "str(df)\n",
    "sum(is.na(df))"
   ]
  },
  {
   "cell_type": "markdown",
   "id": "a9d94e48",
   "metadata": {},
   "source": [
    "Now, there are no missing values in our dataset."
   ]
  },
  {
   "cell_type": "markdown",
   "id": "932e9808",
   "metadata": {},
   "source": [
    "Now, we change the \"No Service\" column to \"No\" for simplicity."
   ]
  },
  {
   "cell_type": "code",
   "execution_count": 13,
   "id": "ad2f310b",
   "metadata": {},
   "outputs": [
    {
     "name": "stdout",
     "output_type": "stream",
     "text": [
      "'data.frame':\t7043 obs. of  20 variables:\n",
      " $ gender          : Factor w/ 2 levels \"Female\",\"Male\": 1 2 2 2 1 1 2 1 1 2 ...\n",
      " $ SeniorCitizen   : Factor w/ 2 levels \"0\",\"1\": 1 1 1 1 1 1 1 1 1 1 ...\n",
      " $ Partner         : Factor w/ 2 levels \"No\",\"Yes\": 2 1 1 1 1 1 1 1 2 1 ...\n",
      " $ Dependents      : Factor w/ 2 levels \"No\",\"Yes\": 1 1 1 1 1 1 2 1 1 2 ...\n",
      " $ tenure          : int  1 34 2 45 2 8 22 10 28 62 ...\n",
      " $ PhoneService    : Factor w/ 2 levels \"No\",\"Yes\": 1 2 2 1 2 2 2 1 2 2 ...\n",
      " $ MultipleLines   : Factor w/ 2 levels \"No\",\"Yes\": 1 1 1 1 1 2 2 1 2 1 ...\n",
      " $ InternetService : Factor w/ 2 levels \"No\",\"Yes\": 2 2 2 2 2 2 2 2 2 2 ...\n",
      " $ OnlineSecurity  : Factor w/ 2 levels \"No\",\"Yes\": 1 2 2 2 1 1 1 2 1 2 ...\n",
      " $ OnlineBackup    : Factor w/ 2 levels \"No\",\"Yes\": 2 1 2 1 1 1 2 1 1 2 ...\n",
      " $ DeviceProtection: Factor w/ 2 levels \"No\",\"Yes\": 1 2 1 2 1 2 1 1 2 1 ...\n",
      " $ TechSupport     : Factor w/ 2 levels \"No\",\"Yes\": 1 1 1 2 1 1 1 1 2 1 ...\n",
      " $ StreamingTV     : Factor w/ 2 levels \"No\",\"Yes\": 1 1 1 1 1 2 2 1 2 1 ...\n",
      " $ StreamingMovies : Factor w/ 2 levels \"No\",\"Yes\": 1 1 1 1 1 2 1 1 2 1 ...\n",
      " $ Contract        : Factor w/ 3 levels \"Month-to-month\",..: 1 2 1 2 1 1 1 1 1 2 ...\n",
      " $ PaperlessBilling: Factor w/ 2 levels \"No\",\"Yes\": 2 1 2 1 2 2 2 1 2 1 ...\n",
      " $ PaymentMethod   : Factor w/ 4 levels \"Bank transfer (automatic)\",..: 3 4 4 1 3 3 2 4 3 1 ...\n",
      " $ MonthlyCharges  : num  29.9 57 53.9 42.3 70.7 ...\n",
      " $ TotalCharges    : num  29.9 1889.5 108.2 1840.8 151.7 ...\n",
      " $ Churn           : Factor w/ 2 levels \"No\",\"Yes\": 1 1 2 1 2 2 1 1 2 1 ...\n"
     ]
    }
   ],
   "source": [
    "for(i in (which(colnames(df) == 'OnlineSecurity') : which(colnames(df) == 'StreamingMovies'))){\n",
    "  df[i] <- as.factor(ifelse(df[i] != 'Yes', 'No', 'Yes'))\n",
    "}\n",
    "df$InternetService <- as.factor(ifelse(df$InternetService != 'No', 'Yes', 'No'))\n",
    "df$MultipleLines <- as.factor(ifelse(df$MultipleLines != 'Yes', 'No', 'Yes'))\n",
    "df$SeniorCitizen <- as.factor(df$SeniorCitizen)\n",
    "\n",
    "for(i in 1:ncol(df)){\n",
    "  if(class(df[,i]) == 'character'){\n",
    "    df[,i] <- as.factor(df[,i])\n",
    "  }\n",
    "}\n",
    "str(df)"
   ]
  },
  {
   "cell_type": "markdown",
   "id": "94548baa",
   "metadata": {},
   "source": [
    "* **Exploratory Data Analysis:**"
   ]
  },
  {
   "cell_type": "code",
   "execution_count": 16,
   "id": "6d7cdc2a",
   "metadata": {},
   "outputs": [
    {
     "data": {
      "image/png": "[encoded data removed]",
      "text/plain": [
       "plot without title"
      ]
     },
     "metadata": {
      "image/png": {
       "height": 420,
       "width": 420
      }
     },
     "output_type": "display_data"
    }
   ],
   "source": [
    "p1 <- ggplot(df, aes(x = Churn, fill = Churn)) +facet_grid(~gender)+ geom_bar() +ggtitle(\"Churn - Gender\") + theme_bw()\n",
    "p2 <- ggplot(df, aes(x = Churn, fill = Churn)) +facet_grid(~SeniorCitizen)+ geom_bar() + ggtitle(\"Churn - SeniorCitizen\") + theme_bw()\n",
    "p3 <- ggplot(df, aes(x = Churn, fill = Churn)) +facet_grid(~Dependents)+ geom_bar() + ggtitle(\"Churn - Dependents\") + theme_bw()\n",
    "p4 <- ggplot(df, aes(x = Churn, fill = Churn)) +facet_grid(~Partner)+ geom_bar() + ggtitle(\"Churn - Partner\") + theme_bw()\n",
    "p5 <- ggplot(df, aes(x = Churn, fill = Churn)) +facet_grid(~PhoneService)+ geom_bar() + ggtitle(\"Churn - PhoneService\")+ theme_bw()\n",
    "p6 <- ggplot(df, aes(x = Churn, fill = Churn)) +facet_grid(~InternetService)+ geom_bar() + ggtitle(\"Churn - InternetService\") + theme_bw()\n",
    "p7 <- ggplot(df, aes(x = Churn, fill = Churn)) +facet_grid(~PaperlessBilling)+ geom_bar() + ggtitle(\"Churn - PaperlessBilling\") + theme_bw()\n",
    "p8 <- ggplot(df, aes(x = Churn, fill = Churn)) +facet_grid(~PaymentMethod)+ geom_bar() + ggtitle(\"Churn - Payment Method\") + theme_bw()\n",
    "ggpubr::ggarrange(p1,p2,p3,p4,p5,p6,p7,p8, nrow = 3, ncol = 3) "
   ]
  },
  {
   "cell_type": "markdown",
   "id": "17df3a9b",
   "metadata": {},
   "source": [
    "* **Observations:** <br>\n",
    "If customers are does not have partner, imdependent, they are more likely to churn.<br>\n",
    "Churn doesn't depend on gender.<br>\n",
    "If the customers are uses fiber optic internet services, they are more likely to churn among all."
   ]
  },
  {
   "cell_type": "code",
   "execution_count": 17,
   "id": "f4d2a4fb",
   "metadata": {},
   "outputs": [
    {
     "data": {
      "image/png": "[encoded data removed]",
      "text/plain": [
       "Plot with title \"\""
      ]
     },
     "metadata": {
      "image/png": {
       "height": 420,
       "width": 420
      }
     },
     "output_type": "display_data"
    }
   ],
   "source": [
    "cr <-cor(df[,c(5,18,19)])\n",
    "corrplot(cr, method=\"circle\")"
   ]
  },
  {
   "cell_type": "markdown",
   "id": "5366a92e",
   "metadata": {},
   "source": [
    "From the correlation plot, we can see that, \"MonthlyCharges\" and \"TotalCharges\" are positively strongly correlated. So, we remive the \"TotalCharges\" column."
   ]
  },
  {
   "cell_type": "markdown",
   "id": "85d27a53",
   "metadata": {},
   "source": [
    "* **One Hot Encoding:**"
   ]
  },
  {
   "cell_type": "markdown",
   "id": "84845cf5",
   "metadata": {},
   "source": [
    "In this step, we are going to encode our categorical variables which have more than two categories,-"
   ]
  },
  {
   "cell_type": "code",
   "execution_count": 20,
   "id": "8e8525bc",
   "metadata": {},
   "outputs": [
    {
     "data": {
      "text/html": [
       "<table class=\"dataframe\">\n",
       "<caption>A data.frame: 6 × 22</caption>\n",
       "<thead>\n",
       "\t<tr><th></th><th scope=col>gender</th><th scope=col>SeniorCitizen</th><th scope=col>Partner</th><th scope=col>Dependents</th><th scope=col>tenure</th><th scope=col>PhoneService</th><th scope=col>MultipleLines</th><th scope=col>InternetService</th><th scope=col>OnlineSecurity</th><th scope=col>OnlineBackup</th><th scope=col>...</th><th scope=col>StreamingTV</th><th scope=col>StreamingMovies</th><th scope=col>PaperlessBilling</th><th scope=col>MonthlyCharges</th><th scope=col>Churn</th><th scope=col>Contract.One.year</th><th scope=col>Contract.Two.year</th><th scope=col>PaymentMethod.Credit.card..automatic.</th><th scope=col>PaymentMethod.Electronic.check</th><th scope=col>PaymentMethod.Mailed.check</th></tr>\n",
       "\t<tr><th></th><th scope=col>&lt;fct&gt;</th><th scope=col>&lt;fct&gt;</th><th scope=col>&lt;fct&gt;</th><th scope=col>&lt;fct&gt;</th><th scope=col>&lt;int&gt;</th><th scope=col>&lt;fct&gt;</th><th scope=col>&lt;fct&gt;</th><th scope=col>&lt;fct&gt;</th><th scope=col>&lt;fct&gt;</th><th scope=col>&lt;fct&gt;</th><th scope=col>...</th><th scope=col>&lt;fct&gt;</th><th scope=col>&lt;fct&gt;</th><th scope=col>&lt;fct&gt;</th><th scope=col>&lt;dbl&gt;</th><th scope=col>&lt;fct&gt;</th><th scope=col>&lt;dbl&gt;</th><th scope=col>&lt;dbl&gt;</th><th scope=col>&lt;dbl&gt;</th><th scope=col>&lt;dbl&gt;</th><th scope=col>&lt;dbl&gt;</th></tr>\n",
       "</thead>\n",
       "<tbody>\n",
       "\t<tr><th scope=row>1</th><td>Female</td><td>0</td><td>Yes</td><td>No</td><td> 1</td><td>No </td><td>No </td><td>Yes</td><td>No </td><td>Yes</td><td>...</td><td>No </td><td>No </td><td>Yes</td><td>29.85</td><td>No </td><td>0</td><td>0</td><td>0</td><td>1</td><td>0</td></tr>\n",
       "\t<tr><th scope=row>2</th><td>Male  </td><td>0</td><td>No </td><td>No</td><td>34</td><td>Yes</td><td>No </td><td>Yes</td><td>Yes</td><td>No </td><td>...</td><td>No </td><td>No </td><td>No </td><td>56.95</td><td>No </td><td>1</td><td>0</td><td>0</td><td>0</td><td>1</td></tr>\n",
       "\t<tr><th scope=row>3</th><td>Male  </td><td>0</td><td>No </td><td>No</td><td> 2</td><td>Yes</td><td>No </td><td>Yes</td><td>Yes</td><td>Yes</td><td>...</td><td>No </td><td>No </td><td>Yes</td><td>53.85</td><td>Yes</td><td>0</td><td>0</td><td>0</td><td>0</td><td>1</td></tr>\n",
       "\t<tr><th scope=row>4</th><td>Male  </td><td>0</td><td>No </td><td>No</td><td>45</td><td>No </td><td>No </td><td>Yes</td><td>Yes</td><td>No </td><td>...</td><td>No </td><td>No </td><td>No </td><td>42.30</td><td>No </td><td>1</td><td>0</td><td>0</td><td>0</td><td>0</td></tr>\n",
       "\t<tr><th scope=row>5</th><td>Female</td><td>0</td><td>No </td><td>No</td><td> 2</td><td>Yes</td><td>No </td><td>Yes</td><td>No </td><td>No </td><td>...</td><td>No </td><td>No </td><td>Yes</td><td>70.70</td><td>Yes</td><td>0</td><td>0</td><td>0</td><td>1</td><td>0</td></tr>\n",
       "\t<tr><th scope=row>6</th><td>Female</td><td>0</td><td>No </td><td>No</td><td> 8</td><td>Yes</td><td>Yes</td><td>Yes</td><td>No </td><td>No </td><td>...</td><td>Yes</td><td>Yes</td><td>Yes</td><td>99.65</td><td>Yes</td><td>0</td><td>0</td><td>0</td><td>1</td><td>0</td></tr>\n",
       "</tbody>\n",
       "</table>\n"
      ],
      "text/latex": [
       "A data.frame: 6 × 22\n",
       "\\begin{tabular}{r|lllllllllllllllllllll}\n",
       "  & gender & SeniorCitizen & Partner & Dependents & tenure & PhoneService & MultipleLines & InternetService & OnlineSecurity & OnlineBackup & ... & StreamingTV & StreamingMovies & PaperlessBilling & MonthlyCharges & Churn & Contract.One.year & Contract.Two.year & PaymentMethod.Credit.card..automatic. & PaymentMethod.Electronic.check & PaymentMethod.Mailed.check\\\\\n",
       "  & <fct> & <fct> & <fct> & <fct> & <int> & <fct> & <fct> & <fct> & <fct> & <fct> & ... & <fct> & <fct> & <fct> & <dbl> & <fct> & <dbl> & <dbl> & <dbl> & <dbl> & <dbl>\\\\\n",
       "\\hline\n",
       "\t1 & Female & 0 & Yes & No &  1 & No  & No  & Yes & No  & Yes & ... & No  & No  & Yes & 29.85 & No  & 0 & 0 & 0 & 1 & 0\\\\\n",
       "\t2 & Male   & 0 & No  & No & 34 & Yes & No  & Yes & Yes & No  & ... & No  & No  & No  & 56.95 & No  & 1 & 0 & 0 & 0 & 1\\\\\n",
       "\t3 & Male   & 0 & No  & No &  2 & Yes & No  & Yes & Yes & Yes & ... & No  & No  & Yes & 53.85 & Yes & 0 & 0 & 0 & 0 & 1\\\\\n",
       "\t4 & Male   & 0 & No  & No & 45 & No  & No  & Yes & Yes & No  & ... & No  & No  & No  & 42.30 & No  & 1 & 0 & 0 & 0 & 0\\\\\n",
       "\t5 & Female & 0 & No  & No &  2 & Yes & No  & Yes & No  & No  & ... & No  & No  & Yes & 70.70 & Yes & 0 & 0 & 0 & 1 & 0\\\\\n",
       "\t6 & Female & 0 & No  & No &  8 & Yes & Yes & Yes & No  & No  & ... & Yes & Yes & Yes & 99.65 & Yes & 0 & 0 & 0 & 1 & 0\\\\\n",
       "\\end{tabular}\n"
      ],
      "text/markdown": [
       "\n",
       "A data.frame: 6 × 22\n",
       "\n",
       "| <!--/--> | gender &lt;fct&gt; | SeniorCitizen &lt;fct&gt; | Partner &lt;fct&gt; | Dependents &lt;fct&gt; | tenure &lt;int&gt; | PhoneService &lt;fct&gt; | MultipleLines &lt;fct&gt; | InternetService &lt;fct&gt; | OnlineSecurity &lt;fct&gt; | OnlineBackup &lt;fct&gt; | ... ... | StreamingTV &lt;fct&gt; | StreamingMovies &lt;fct&gt; | PaperlessBilling &lt;fct&gt; | MonthlyCharges &lt;dbl&gt; | Churn &lt;fct&gt; | Contract.One.year &lt;dbl&gt; | Contract.Two.year &lt;dbl&gt; | PaymentMethod.Credit.card..automatic. &lt;dbl&gt; | PaymentMethod.Electronic.check &lt;dbl&gt; | PaymentMethod.Mailed.check &lt;dbl&gt; |\n",
       "|---|---|---|---|---|---|---|---|---|---|---|---|---|---|---|---|---|---|---|---|---|---|\n",
       "| 1 | Female | 0 | Yes | No |  1 | No  | No  | Yes | No  | Yes | ... | No  | No  | Yes | 29.85 | No  | 0 | 0 | 0 | 1 | 0 |\n",
       "| 2 | Male   | 0 | No  | No | 34 | Yes | No  | Yes | Yes | No  | ... | No  | No  | No  | 56.95 | No  | 1 | 0 | 0 | 0 | 1 |\n",
       "| 3 | Male   | 0 | No  | No |  2 | Yes | No  | Yes | Yes | Yes | ... | No  | No  | Yes | 53.85 | Yes | 0 | 0 | 0 | 0 | 1 |\n",
       "| 4 | Male   | 0 | No  | No | 45 | No  | No  | Yes | Yes | No  | ... | No  | No  | No  | 42.30 | No  | 1 | 0 | 0 | 0 | 0 |\n",
       "| 5 | Female | 0 | No  | No |  2 | Yes | No  | Yes | No  | No  | ... | No  | No  | Yes | 70.70 | Yes | 0 | 0 | 0 | 1 | 0 |\n",
       "| 6 | Female | 0 | No  | No |  8 | Yes | Yes | Yes | No  | No  | ... | Yes | Yes | Yes | 99.65 | Yes | 0 | 0 | 0 | 1 | 0 |\n",
       "\n"
      ],
      "text/plain": [
       "  gender SeniorCitizen Partner Dependents tenure PhoneService MultipleLines\n",
       "1 Female 0             Yes     No          1     No           No           \n",
       "2 Male   0             No      No         34     Yes          No           \n",
       "3 Male   0             No      No          2     Yes          No           \n",
       "4 Male   0             No      No         45     No           No           \n",
       "5 Female 0             No      No          2     Yes          No           \n",
       "6 Female 0             No      No          8     Yes          Yes          \n",
       "  InternetService OnlineSecurity OnlineBackup ... StreamingTV StreamingMovies\n",
       "1 Yes             No             Yes          ... No          No             \n",
       "2 Yes             Yes            No           ... No          No             \n",
       "3 Yes             Yes            Yes          ... No          No             \n",
       "4 Yes             Yes            No           ... No          No             \n",
       "5 Yes             No             No           ... No          No             \n",
       "6 Yes             No             No           ... Yes         Yes            \n",
       "  PaperlessBilling MonthlyCharges Churn Contract.One.year Contract.Two.year\n",
       "1 Yes              29.85          No    0                 0                \n",
       "2 No               56.95          No    1                 0                \n",
       "3 Yes              53.85          Yes   0                 0                \n",
       "4 No               42.30          No    1                 0                \n",
       "5 Yes              70.70          Yes   0                 0                \n",
       "6 Yes              99.65          Yes   0                 0                \n",
       "  PaymentMethod.Credit.card..automatic. PaymentMethod.Electronic.check\n",
       "1 0                                     1                             \n",
       "2 0                                     0                             \n",
       "3 0                                     0                             \n",
       "4 0                                     0                             \n",
       "5 0                                     1                             \n",
       "6 0                                     1                             \n",
       "  PaymentMethod.Mailed.check\n",
       "1 0                         \n",
       "2 1                         \n",
       "3 1                         \n",
       "4 0                         \n",
       "5 0                         \n",
       "6 0                         "
      ]
     },
     "metadata": {},
     "output_type": "display_data"
    },
    {
     "name": "stderr",
     "output_type": "stream",
     "text": [
      "The following objects are masked from df (pos = 3):\n",
      "\n",
      "    Churn, Dependents, DeviceProtection, gender, InternetService,\n",
      "    MonthlyCharges, MultipleLines, OnlineBackup, OnlineSecurity,\n",
      "    PaperlessBilling, Partner, PhoneService, SeniorCitizen,\n",
      "    StreamingMovies, StreamingTV, TechSupport, tenure\n",
      "\n",
      "\n"
     ]
    },
    {
     "data": {
      "text/html": [
       "<style>\n",
       ".list-inline {list-style: none; margin:0; padding: 0}\n",
       ".list-inline>li {display: inline-block}\n",
       ".list-inline>li:not(:last-child)::after {content: \"\\00b7\"; padding: 0 .5ex}\n",
       "</style>\n",
       "<ol class=list-inline><li>7043</li><li>22</li></ol>\n"
      ],
      "text/latex": [
       "\\begin{enumerate*}\n",
       "\\item 7043\n",
       "\\item 22\n",
       "\\end{enumerate*}\n"
      ],
      "text/markdown": [
       "1. 7043\n",
       "2. 22\n",
       "\n",
       "\n"
      ],
      "text/plain": [
       "[1] 7043   22"
      ]
     },
     "metadata": {},
     "output_type": "display_data"
    }
   ],
   "source": [
    "attach(df)\n",
    "to_dummy <- data.frame(Contract,PaymentMethod)\n",
    "dmy <- dummyVars(\" ~ .\", data = to_dummy)\n",
    "df2 <- data.frame(predict(dmy, newdata = to_dummy))\n",
    "df2 <- df2[, !(colnames(df2) %in% c(\"Contract.Month.to.month\", \"PaymentMethod.Bank.transfer..automatic.\"))]\n",
    "df <- df[,!(colnames(df) %in% c(\"Contract\",\"PaymentMethod\",\"TotalCharges\"))]\n",
    "df <- cbind(df, df2)\n",
    "head(df)\n",
    "attach(df)\n",
    "dim(df)"
   ]
  },
  {
   "cell_type": "markdown",
   "id": "281b1823",
   "metadata": {},
   "source": [
    "* **Feature Selection:**"
   ]
  },
  {
   "cell_type": "markdown",
   "id": "32bdec4f",
   "metadata": {},
   "source": [
    "We have used **_Best Subset Method_** and **_Bayesian Information Criterion(BIC)_** for selecting the features for our analysis."
   ]
  },
  {
   "cell_type": "code",
   "execution_count": 22,
   "id": "6ecc2f24",
   "metadata": {},
   "outputs": [
    {
     "data": {
      "text/html": [
       "<style>\n",
       ".list-inline {list-style: none; margin:0; padding: 0}\n",
       ".list-inline>li {display: inline-block}\n",
       ".list-inline>li:not(:last-child)::after {content: \"\\00b7\"; padding: 0 .5ex}\n",
       "</style>\n",
       "<ol class=list-inline><li>'which'</li><li>'rsq'</li><li>'rss'</li><li>'adjr2'</li><li>'cp'</li><li>'bic'</li><li>'outmat'</li><li>'obj'</li></ol>\n"
      ],
      "text/latex": [
       "\\begin{enumerate*}\n",
       "\\item 'which'\n",
       "\\item 'rsq'\n",
       "\\item 'rss'\n",
       "\\item 'adjr2'\n",
       "\\item 'cp'\n",
       "\\item 'bic'\n",
       "\\item 'outmat'\n",
       "\\item 'obj'\n",
       "\\end{enumerate*}\n"
      ],
      "text/markdown": [
       "1. 'which'\n",
       "2. 'rsq'\n",
       "3. 'rss'\n",
       "4. 'adjr2'\n",
       "5. 'cp'\n",
       "6. 'bic'\n",
       "7. 'outmat'\n",
       "8. 'obj'\n",
       "\n",
       "\n"
      ],
      "text/plain": [
       "[1] \"which\"  \"rsq\"    \"rss\"    \"adjr2\"  \"cp\"     \"bic\"    \"outmat\" \"obj\"   "
      ]
     },
     "metadata": {},
     "output_type": "display_data"
    },
    {
     "data": {
      "text/html": [
       "12"
      ],
      "text/latex": [
       "12"
      ],
      "text/markdown": [
       "12"
      ],
      "text/plain": [
       "[1] 12"
      ]
     },
     "metadata": {},
     "output_type": "display_data"
    },
    {
     "data": {
      "image/png": "[encoded data removed]",
      "text/plain": [
       "plot without title"
      ]
     },
     "metadata": {
      "image/png": {
       "height": 420,
       "width": 420
      }
     },
     "output_type": "display_data"
    }
   ],
   "source": [
    "regfit.full=regsubsets(Churn~.,data=df,nvmax=21)\n",
    "reg.summary=summary(regfit.full)\n",
    "names(reg.summary)\n",
    "which.min(reg.summary$bic)\n",
    "plot(reg.summary$bic,xlab=\"No. of Variables\",ylab=expression(paste(\"BIC\")),type=\"l\")\n",
    "points(12,reg.summary$bic[12],col=\"red\",cex=2,pch=20)"
   ]
  },
  {
   "cell_type": "markdown",
   "id": "fce26701",
   "metadata": {},
   "source": [
    "12 variable model gives the minimum BIC. So, we choose that model. The selected features are as follows,"
   ]
  },
  {
   "cell_type": "code",
   "execution_count": 23,
   "id": "ab3db5c2",
   "metadata": {},
   "outputs": [
    {
     "data": {
      "text/html": [
       "<style>\n",
       ".list-inline {list-style: none; margin:0; padding: 0}\n",
       ".list-inline>li {display: inline-block}\n",
       ".list-inline>li:not(:last-child)::after {content: \"\\00b7\"; padding: 0 .5ex}\n",
       "</style>\n",
       "<ol class=list-inline><li>'SeniorCitizen1'</li><li>'tenure'</li><li>'PhoneServiceYes'</li><li>'OnlineSecurityYes'</li><li>'OnlineBackupYes'</li><li>'DeviceProtectionYes'</li><li>'TechSupportYes'</li><li>'PaperlessBillingYes'</li><li>'MonthlyCharges'</li><li>'Contract.One.year'</li><li>'Contract.Two.year'</li><li>'PaymentMethod.Electronic.check'</li></ol>\n"
      ],
      "text/latex": [
       "\\begin{enumerate*}\n",
       "\\item 'SeniorCitizen1'\n",
       "\\item 'tenure'\n",
       "\\item 'PhoneServiceYes'\n",
       "\\item 'OnlineSecurityYes'\n",
       "\\item 'OnlineBackupYes'\n",
       "\\item 'DeviceProtectionYes'\n",
       "\\item 'TechSupportYes'\n",
       "\\item 'PaperlessBillingYes'\n",
       "\\item 'MonthlyCharges'\n",
       "\\item 'Contract.One.year'\n",
       "\\item 'Contract.Two.year'\n",
       "\\item 'PaymentMethod.Electronic.check'\n",
       "\\end{enumerate*}\n"
      ],
      "text/markdown": [
       "1. 'SeniorCitizen1'\n",
       "2. 'tenure'\n",
       "3. 'PhoneServiceYes'\n",
       "4. 'OnlineSecurityYes'\n",
       "5. 'OnlineBackupYes'\n",
       "6. 'DeviceProtectionYes'\n",
       "7. 'TechSupportYes'\n",
       "8. 'PaperlessBillingYes'\n",
       "9. 'MonthlyCharges'\n",
       "10. 'Contract.One.year'\n",
       "11. 'Contract.Two.year'\n",
       "12. 'PaymentMethod.Electronic.check'\n",
       "\n",
       "\n"
      ],
      "text/plain": [
       " [1] \"SeniorCitizen1\"                 \"tenure\"                        \n",
       " [3] \"PhoneServiceYes\"                \"OnlineSecurityYes\"             \n",
       " [5] \"OnlineBackupYes\"                \"DeviceProtectionYes\"           \n",
       " [7] \"TechSupportYes\"                 \"PaperlessBillingYes\"           \n",
       " [9] \"MonthlyCharges\"                 \"Contract.One.year\"             \n",
       "[11] \"Contract.Two.year\"              \"PaymentMethod.Electronic.check\""
      ]
     },
     "metadata": {},
     "output_type": "display_data"
    }
   ],
   "source": [
    "names(coef(regfit.full,12))[-1]"
   ]
  },
  {
   "cell_type": "markdown",
   "id": "301cd87f",
   "metadata": {},
   "source": [
    "Now, we are ready with our final dataset for further analysis."
   ]
  },
  {
   "cell_type": "code",
   "execution_count": 24,
   "id": "f5d06327",
   "metadata": {},
   "outputs": [
    {
     "data": {
      "text/html": [
       "<style>\n",
       ".list-inline {list-style: none; margin:0; padding: 0}\n",
       ".list-inline>li {display: inline-block}\n",
       ".list-inline>li:not(:last-child)::after {content: \"\\00b7\"; padding: 0 .5ex}\n",
       "</style>\n",
       "<ol class=list-inline><li>7043</li><li>13</li></ol>\n"
      ],
      "text/latex": [
       "\\begin{enumerate*}\n",
       "\\item 7043\n",
       "\\item 13\n",
       "\\end{enumerate*}\n"
      ],
      "text/markdown": [
       "1. 7043\n",
       "2. 13\n",
       "\n",
       "\n"
      ],
      "text/plain": [
       "[1] 7043   13"
      ]
     },
     "metadata": {},
     "output_type": "display_data"
    }
   ],
   "source": [
    "data=df[,-c(1,3,4,7,8,13,14,20,22)]\n",
    "dim(data)"
   ]
  },
  {
   "cell_type": "markdown",
   "id": "ee0b9fff",
   "metadata": {},
   "source": [
    "In our final data, we have 13 columns."
   ]
  },
  {
   "cell_type": "markdown",
   "id": "812ef999",
   "metadata": {},
   "source": [
    "#  Data Analysis:"
   ]
  },
  {
   "cell_type": "markdown",
   "id": "1b60ee03",
   "metadata": {},
   "source": [
    "## Splitting the Data: "
   ]
  },
  {
   "cell_type": "code",
   "execution_count": 25,
   "id": "9350c6a2",
   "metadata": {},
   "outputs": [
    {
     "name": "stdout",
     "output_type": "stream",
     "text": [
      "[1] \"The data is successfully split into Training, Cross Validation and Test Set\"\n"
     ]
    }
   ],
   "source": [
    "set.seed(2021)\n",
    "index1=sample(1:nrow(data),floor(0.7*nrow(data)))\n",
    "train=data[index1,]\n",
    "remaining=data[-index1,]\n",
    "index2=sample(1:nrow(remaining),floor(2/3*nrow(remaining)))\n",
    "crossval=remaining[index2,]\n",
    "test=remaining[-index2,]\n",
    "actual_churn=crossval$Churn\n",
    "print(\"The data is successfully split into Training, Cross Validation and Test Set\")"
   ]
  },
  {
   "cell_type": "code",
   "execution_count": 26,
   "id": "8c1fcb42",
   "metadata": {},
   "outputs": [],
   "source": [
    "f_cfm <- function(x){\n",
    "  cfm <- as.tibble(x)\n",
    "  cname <- colnames(cfm)\n",
    "  print(plot_confusion_matrix(cfm, target_col = cname[2], prediction_col =  cname[1], counts_col = cname[3]))\n",
    "}\n",
    "f_bar <- function(pred, act){\n",
    "  d1 <- as.matrix(data.frame(as.vector(table(pred)), as.vector(table(act))))\n",
    "  colnames(d1) <- c(\"Predicted\",\"Actual\")\n",
    "  rownames(d1) <- c(\"Yes\",\"No\")\n",
    "  barplot(d1, main=\"Ratio of Yes and No in Predicted and Actual\",col=c(\"pink\",\"cyan\"))\n",
    "  legend(\"topright\",c(\"No\",\"Yes\"),fill=c(\"pink\",\"cyan\")) \n",
    "}"
   ]
  },
  {
   "cell_type": "markdown",
   "id": "46bdebf6",
   "metadata": {},
   "source": [
    "# Logistic Regression:"
   ]
  },
  {
   "cell_type": "code",
   "execution_count": 45,
   "id": "ea2b158f",
   "metadata": {},
   "outputs": [
    {
     "data": {
      "text/html": [
       "<table class=\"dataframe\">\n",
       "<caption>A data.frame: 7 × 2</caption>\n",
       "<thead>\n",
       "\t<tr><th scope=col>thresholds</th><th scope=col>fscore</th></tr>\n",
       "\t<tr><th scope=col>&lt;dbl&gt;</th><th scope=col>&lt;dbl&gt;</th></tr>\n",
       "</thead>\n",
       "<tbody>\n",
       "\t<tr><td>0.1</td><td>0.5488297</td></tr>\n",
       "\t<tr><td>0.2</td><td>0.5935357</td></tr>\n",
       "\t<tr><td>0.3</td><td>0.6006826</td></tr>\n",
       "\t<tr><td>0.4</td><td>0.5793651</td></tr>\n",
       "\t<tr><td>0.5</td><td>0.5474006</td></tr>\n",
       "\t<tr><td>0.6</td><td>0.4641509</td></tr>\n",
       "\t<tr><td>0.7</td><td>0.2725173</td></tr>\n",
       "</tbody>\n",
       "</table>\n"
      ],
      "text/latex": [
       "A data.frame: 7 × 2\n",
       "\\begin{tabular}{ll}\n",
       " thresholds & fscore\\\\\n",
       " <dbl> & <dbl>\\\\\n",
       "\\hline\n",
       "\t 0.1 & 0.5488297\\\\\n",
       "\t 0.2 & 0.5935357\\\\\n",
       "\t 0.3 & 0.6006826\\\\\n",
       "\t 0.4 & 0.5793651\\\\\n",
       "\t 0.5 & 0.5474006\\\\\n",
       "\t 0.6 & 0.4641509\\\\\n",
       "\t 0.7 & 0.2725173\\\\\n",
       "\\end{tabular}\n"
      ],
      "text/markdown": [
       "\n",
       "A data.frame: 7 × 2\n",
       "\n",
       "| thresholds &lt;dbl&gt; | fscore &lt;dbl&gt; |\n",
       "|---|---|\n",
       "| 0.1 | 0.5488297 |\n",
       "| 0.2 | 0.5935357 |\n",
       "| 0.3 | 0.6006826 |\n",
       "| 0.4 | 0.5793651 |\n",
       "| 0.5 | 0.5474006 |\n",
       "| 0.6 | 0.4641509 |\n",
       "| 0.7 | 0.2725173 |\n",
       "\n"
      ],
      "text/plain": [
       "  thresholds fscore   \n",
       "1 0.1        0.5488297\n",
       "2 0.2        0.5935357\n",
       "3 0.3        0.6006826\n",
       "4 0.4        0.5793651\n",
       "5 0.5        0.5474006\n",
       "6 0.6        0.4641509\n",
       "7 0.7        0.2725173"
      ]
     },
     "metadata": {},
     "output_type": "display_data"
    },
    {
     "data": {
      "text/html": [
       "<span style=white-space:pre-wrap>'Maximum F1-score is for thresold value of  0.3  and is =  0.6007'</span>"
      ],
      "text/latex": [
       "'Maximum F1-score is for thresold value of  0.3  and is =  0.6007'"
      ],
      "text/markdown": [
       "<span style=white-space:pre-wrap>'Maximum F1-score is for thresold value of  0.3  and is =  0.6007'</span>"
      ],
      "text/plain": [
       "[1] \"Maximum F1-score is for thresold value of  0.3  and is =  0.6007\""
      ]
     },
     "metadata": {},
     "output_type": "display_data"
    }
   ],
   "source": [
    "thresholds <- seq(0.1,0.7,0.1)\n",
    "fscore = array(0)\n",
    "logistic.predict = matrix('No', ncol = length(thresholds), nrow = nrow(crossval))\n",
    "for(i in 1:length(thresholds)){\n",
    "  logistic.fit <- train(Churn~.,data=train,trControl=trainControl(method=\"cv\",number=10)\n",
    "                     ,method=\"glm\",family=\"binomial\")\n",
    "  predicted_prob <- predict(logistic.fit,newdata=crossval,type=\"prob\")[,2]\n",
    "  logistic.predict[,i][predicted_prob>thresholds[i]] <- \"Yes\"\n",
    "  temp <- table(logistic.predict[,i], actual_churn)\n",
    "  prec <- temp[2,2]/(temp[2,2] + temp[2,1])\n",
    "  recall <- temp[2,2]/(temp[2,2] + temp[1,2])\n",
    "  fscore[i] <- (2*prec*recall)/(prec + recall)\n",
    "}\n",
    "data.frame(thresholds, fscore)\n",
    "max_acc <- which.max(fscore)\n",
    "paste(\"Maximum F1-score is for thresold value of \", thresholds[max_acc], \" and is = \",round(fscore[max_acc],4))"
   ]
  },
  {
   "cell_type": "markdown",
   "id": "2f05a594",
   "metadata": {},
   "source": [
    "Since our data is imbalanced, so, instead of using threshold probability 0.5, we calculated **_F-Score_** corresponding to different probabilities and choose that value of the probability for which we get the maximum threshold value."
   ]
  },
  {
   "cell_type": "code",
   "execution_count": 46,
   "id": "c4c4586f",
   "metadata": {},
   "outputs": [
    {
     "data": {
      "text/html": [
       "<table class=\"dataframe\">\n",
       "<caption>A data.frame: 7 × 2</caption>\n",
       "<thead>\n",
       "\t<tr><th scope=col>thresholds</th><th scope=col>fscore</th></tr>\n",
       "\t<tr><th scope=col>&lt;dbl&gt;</th><th scope=col>&lt;dbl&gt;</th></tr>\n",
       "</thead>\n",
       "<tbody>\n",
       "\t<tr><td>0.1</td><td>0.5488297</td></tr>\n",
       "\t<tr><td>0.2</td><td>0.5935357</td></tr>\n",
       "\t<tr><td>0.3</td><td>0.6006826</td></tr>\n",
       "\t<tr><td>0.4</td><td>0.5793651</td></tr>\n",
       "\t<tr><td>0.5</td><td>0.5474006</td></tr>\n",
       "\t<tr><td>0.6</td><td>0.4641509</td></tr>\n",
       "\t<tr><td>0.7</td><td>0.2725173</td></tr>\n",
       "</tbody>\n",
       "</table>\n"
      ],
      "text/latex": [
       "A data.frame: 7 × 2\n",
       "\\begin{tabular}{ll}\n",
       " thresholds & fscore\\\\\n",
       " <dbl> & <dbl>\\\\\n",
       "\\hline\n",
       "\t 0.1 & 0.5488297\\\\\n",
       "\t 0.2 & 0.5935357\\\\\n",
       "\t 0.3 & 0.6006826\\\\\n",
       "\t 0.4 & 0.5793651\\\\\n",
       "\t 0.5 & 0.5474006\\\\\n",
       "\t 0.6 & 0.4641509\\\\\n",
       "\t 0.7 & 0.2725173\\\\\n",
       "\\end{tabular}\n"
      ],
      "text/markdown": [
       "\n",
       "A data.frame: 7 × 2\n",
       "\n",
       "| thresholds &lt;dbl&gt; | fscore &lt;dbl&gt; |\n",
       "|---|---|\n",
       "| 0.1 | 0.5488297 |\n",
       "| 0.2 | 0.5935357 |\n",
       "| 0.3 | 0.6006826 |\n",
       "| 0.4 | 0.5793651 |\n",
       "| 0.5 | 0.5474006 |\n",
       "| 0.6 | 0.4641509 |\n",
       "| 0.7 | 0.2725173 |\n",
       "\n"
      ],
      "text/plain": [
       "  thresholds fscore   \n",
       "1 0.1        0.5488297\n",
       "2 0.2        0.5935357\n",
       "3 0.3        0.6006826\n",
       "4 0.4        0.5793651\n",
       "5 0.5        0.5474006\n",
       "6 0.6        0.4641509\n",
       "7 0.7        0.2725173"
      ]
     },
     "metadata": {},
     "output_type": "display_data"
    },
    {
     "data": {
      "text/html": [
       "<span style=white-space:pre-wrap>'Maximum F-score is for thresold value of  0.3  and is =  0.6007'</span>"
      ],
      "text/latex": [
       "'Maximum F-score is for thresold value of  0.3  and is =  0.6007'"
      ],
      "text/markdown": [
       "<span style=white-space:pre-wrap>'Maximum F-score is for thresold value of  0.3  and is =  0.6007'</span>"
      ],
      "text/plain": [
       "[1] \"Maximum F-score is for thresold value of  0.3  and is =  0.6007\""
      ]
     },
     "metadata": {},
     "output_type": "display_data"
    },
    {
     "data": {
      "text/html": [
       "<span style=white-space:pre-wrap>'Accuracy of the model is:  0.7507'</span>"
      ],
      "text/latex": [
       "'Accuracy of the model is:  0.7507'"
      ],
      "text/markdown": [
       "<span style=white-space:pre-wrap>'Accuracy of the model is:  0.7507'</span>"
      ],
      "text/plain": [
       "[1] \"Accuracy of the model is:  0.7507\""
      ]
     },
     "metadata": {},
     "output_type": "display_data"
    },
    {
     "data": {
      "text/plain": [
       "                actual_churn\n",
       "logistic.predict  No Yes\n",
       "             No  793  91\n",
       "             Yes 260 264"
      ]
     },
     "metadata": {},
     "output_type": "display_data"
    },
    {
     "name": "stderr",
     "output_type": "stream",
     "text": [
      "Warning message in plot_confusion_matrix(cfm, target_col = cname[2], prediction_col = cname[1], :\n",
      "\"'ggimage' is missing. Will not plot arrows and zero-shading.\"\n",
      "Warning message in plot_confusion_matrix(cfm, target_col = cname[2], prediction_col = cname[1], :\n",
      "\"'rsvg' is missing. Will not plot arrows and zero-shading.\"\n"
     ]
    },
    {
     "data": {
      "image/png": "[encoded data removed]",
      "text/plain": [
       "plot without title"
      ]
     },
     "metadata": {
      "image/png": {
       "height": 420,
       "width": 420
      }
     },
     "output_type": "display_data"
    },
    {
     "data": {
      "image/png": "[encoded data removed]",
      "text/plain": [
       "Plot with title \"Ratio of Yes and No in Predicted and Actual\""
      ]
     },
     "metadata": {
      "image/png": {
       "height": 420,
       "width": 420
      }
     },
     "output_type": "display_data"
    }
   ],
   "source": [
    "data.frame(thresholds, fscore)\n",
    "max_acc <- which.max(fscore)\n",
    "paste(\"Maximum F-score is for thresold value of \", thresholds[max_acc], \" and is = \",round(fscore[max_acc],4))\n",
    "logistic.predict <- as.vector(logistic.predict[,max_acc])\n",
    "t1 <- table(logistic.predict, actual_churn)\n",
    "paste(\"Accuracy of the model is: \",round(mean(logistic.predict == actual_churn),4))\n",
    "t1\n",
    "f_cfm(t1)\n",
    "f_bar(logistic.predict, actual_churn)"
   ]
  },
  {
   "cell_type": "markdown",
   "id": "f01212ce",
   "metadata": {},
   "source": [
    "We see that, logistic model can give accurate churn prediction in 75.07% cases."
   ]
  },
  {
   "cell_type": "markdown",
   "id": "94a8db64",
   "metadata": {},
   "source": [
    "# Classification Tree:"
   ]
  },
  {
   "cell_type": "code",
   "execution_count": 47,
   "id": "3d9c71a2",
   "metadata": {},
   "outputs": [
    {
     "data": {
      "image/png": "[encoded data removed]",
      "text/plain": [
       "plot without title"
      ]
     },
     "metadata": {
      "image/png": {
       "height": 420,
       "width": 420
      }
     },
     "output_type": "display_data"
    }
   ],
   "source": [
    "set.seed(2021)\n",
    "tree.fit=train(Churn~.,data=train,trControl=trainControl(method=\"cv\",number=10)\n",
    "               ,method=\"rpart\")\n",
    "plot(tree.fit$finalModel)\n",
    "text(tree.fit$finalModel,pretty=0,cex=0.7)"
   ]
  },
  {
   "cell_type": "markdown",
   "id": "51716114",
   "metadata": {},
   "source": [
    "Here we can see that, \"Tenure\",\"MonthlyCharges\",\"OnlineSecurityYes\" are used to predict whether a customer will churn or not."
   ]
  },
  {
   "cell_type": "code",
   "execution_count": 48,
   "id": "280decfa",
   "metadata": {},
   "outputs": [
    {
     "data": {
      "text/plain": [
       "               actual_churn\n",
       "predicted_churn  No Yes\n",
       "            No  978 241\n",
       "            Yes  75 114"
      ]
     },
     "metadata": {},
     "output_type": "display_data"
    },
    {
     "name": "stderr",
     "output_type": "stream",
     "text": [
      "Warning message in plot_confusion_matrix(cfm, target_col = cname[2], prediction_col = cname[1], :\n",
      "\"'ggimage' is missing. Will not plot arrows and zero-shading.\"\n",
      "Warning message in plot_confusion_matrix(cfm, target_col = cname[2], prediction_col = cname[1], :\n",
      "\"'rsvg' is missing. Will not plot arrows and zero-shading.\"\n"
     ]
    },
    {
     "data": {
      "image/png": "[encoded data removed]",
      "text/plain": [
       "plot without title"
      ]
     },
     "metadata": {
      "image/png": {
       "height": 420,
       "width": 420
      }
     },
     "output_type": "display_data"
    },
    {
     "data": {
      "text/html": [
       "0.7756"
      ],
      "text/latex": [
       "0.7756"
      ],
      "text/markdown": [
       "0.7756"
      ],
      "text/plain": [
       "[1] 0.7756"
      ]
     },
     "metadata": {},
     "output_type": "display_data"
    },
    {
     "data": {
      "image/png": "[encoded data removed]",
      "text/plain": [
       "Plot with title \"Ratio of Yes and No in Predicted and Actual\""
      ]
     },
     "metadata": {
      "image/png": {
       "height": 420,
       "width": 420
      }
     },
     "output_type": "display_data"
    }
   ],
   "source": [
    "tree.predict=predict(tree.fit,crossval)\n",
    "t2 <- table(predicted_churn=tree.predict,actual_churn)\n",
    "t2\n",
    "f_cfm(t2)\n",
    "f_bar(tree.predict, actual_churn)\n",
    "round(mean(tree.predict==actual_churn),4)"
   ]
  },
  {
   "cell_type": "markdown",
   "id": "a2c0cb78",
   "metadata": {},
   "source": [
    "We see that, logistic model can give accurate churn prediction in 75.07% cases, which is better than logistic regression."
   ]
  },
  {
   "cell_type": "markdown",
   "id": "0c7a3f54",
   "metadata": {},
   "source": [
    "## Random Forest:"
   ]
  },
  {
   "cell_type": "code",
   "execution_count": 50,
   "id": "147c30e2",
   "metadata": {},
   "outputs": [
    {
     "data": {
      "text/plain": [
       "               actual_churn\n",
       "predicted_churn  No Yes\n",
       "            No  971 201\n",
       "            Yes  82 154"
      ]
     },
     "metadata": {},
     "output_type": "display_data"
    },
    {
     "name": "stderr",
     "output_type": "stream",
     "text": [
      "Warning message in plot_confusion_matrix(cfm, target_col = cname[2], prediction_col = cname[1], :\n",
      "\"'ggimage' is missing. Will not plot arrows and zero-shading.\"\n",
      "Warning message in plot_confusion_matrix(cfm, target_col = cname[2], prediction_col = cname[1], :\n",
      "\"'rsvg' is missing. Will not plot arrows and zero-shading.\"\n"
     ]
    },
    {
     "data": {
      "image/png": "[encoded data removed]",
      "text/plain": [
       "plot without title"
      ]
     },
     "metadata": {
      "image/png": {
       "height": 420,
       "width": 420
      }
     },
     "output_type": "display_data"
    },
    {
     "data": {
      "text/html": [
       "0.799"
      ],
      "text/latex": [
       "0.799"
      ],
      "text/markdown": [
       "0.799"
      ],
      "text/plain": [
       "[1] 0.799"
      ]
     },
     "metadata": {},
     "output_type": "display_data"
    },
    {
     "data": {
      "image/png": "[encoded data removed]",
      "text/plain": [
       "Plot with title \"Ratio of Yes and No in Predicted and Actual\""
      ]
     },
     "metadata": {
      "image/png": {
       "height": 420,
       "width": 420
      }
     },
     "output_type": "display_data"
    }
   ],
   "source": [
    "rf.fit=train(Churn~.,data=train,trControl=trainControl(method=\"cv\",number=10) ,method=\"rf\")\n",
    "rf.predict=predict(rf.fit,crossval)\n",
    "t3 <- table(predicted_churn=rf.predict,actual_churn)\n",
    "t3\n",
    "f_cfm(t3)\n",
    "f_bar(rf.predict, actual_churn)\n",
    "round(mean(rf.predict==actual_churn),4)"
   ]
  },
  {
   "cell_type": "markdown",
   "id": "b6cc4eba",
   "metadata": {},
   "source": [
    "We see that, Random Forest can give accurate churn prediction in 79.9% cases, which is the best among the three fitted models."
   ]
  },
  {
   "cell_type": "markdown",
   "id": "6b2bea10",
   "metadata": {},
   "source": [
    "## Support Vector Machine(SVM):"
   ]
  },
  {
   "cell_type": "code",
   "execution_count": 51,
   "id": "ec587796",
   "metadata": {},
   "outputs": [
    {
     "data": {
      "text/plain": [
       "\n",
       "Parameter tuning of 'svm':\n",
       "\n",
       "- sampling method: 10-fold cross validation \n",
       "\n",
       "- best parameters:\n",
       " cost gamma\n",
       "    1   0.1\n",
       "\n",
       "- best performance: 0.1947262 \n",
       "\n",
       "- Detailed performance results:\n",
       "   cost gamma     error  dispersion\n",
       "1   0.1 1e-02 0.2387424 0.021467607\n",
       "2   1.0 1e-02 0.1977688 0.012513019\n",
       "3   5.0 1e-02 0.1975659 0.010868712\n",
       "4  10.0 1e-02 0.1957404 0.009668931\n",
       "5   0.1 1e-01 0.2062880 0.012866075\n",
       "6   1.0 1e-01 0.1947262 0.010561528\n",
       "7   5.0 1e-01 0.1971602 0.010682038\n",
       "8  10.0 1e-01 0.1971602 0.012275111\n",
       "9   0.1 1e+00 0.2123732 0.013456566\n",
       "10  1.0 1e+00 0.1991886 0.014837990\n",
       "11  5.0 1e+00 0.2221095 0.017818369\n",
       "12 10.0 1e+00 0.2255578 0.019591516\n",
       "13  0.1 5e+00 0.2407708 0.015655060\n",
       "14  1.0 5e+00 0.2158215 0.008980099\n",
       "15  5.0 5e+00 0.2227181 0.012496568\n",
       "16 10.0 5e+00 0.2251521 0.011981099\n",
       "17  0.1 1e+01 0.2462475 0.016622412\n",
       "18  1.0 1e+01 0.2172414 0.010879222\n",
       "19  5.0 1e+01 0.2241379 0.012254611\n",
       "20 10.0 1e+01 0.2255578 0.013068786\n",
       "21  0.1 1e+02 0.2594320 0.014858003\n",
       "22  1.0 1e+02 0.2304260 0.011640481\n",
       "23  5.0 1e+02 0.2302231 0.012142181\n",
       "24 10.0 1e+02 0.2306288 0.011476341\n"
      ]
     },
     "metadata": {},
     "output_type": "display_data"
    }
   ],
   "source": [
    "set.seed(2021)\n",
    "tune.out=tune(svm, Churn~., data = train, kernel = \"radial\", ranges = list(cost = c(0.1, 1, 5, 10), gamma = c(0.01, 0.1, 1, 5, 10, 100)))\n",
    "summary(tune.out)"
   ]
  },
  {
   "cell_type": "markdown",
   "id": "7c45a8ed",
   "metadata": {},
   "source": [
    "After performing cross validation using tune() we can see that the best choice of parameters involves cost=1 and gamma=2. We use these values for prediction purpose"
   ]
  },
  {
   "cell_type": "code",
   "execution_count": 52,
   "id": "287e7c46",
   "metadata": {},
   "outputs": [
    {
     "data": {
      "text/plain": [
       "               actual_churn\n",
       "predicted_churn  No Yes\n",
       "            No  946 189\n",
       "            Yes 107 166"
      ]
     },
     "metadata": {},
     "output_type": "display_data"
    },
    {
     "name": "stderr",
     "output_type": "stream",
     "text": [
      "Warning message in plot_confusion_matrix(cfm, target_col = cname[2], prediction_col = cname[1], :\n",
      "\"'ggimage' is missing. Will not plot arrows and zero-shading.\"\n",
      "Warning message in plot_confusion_matrix(cfm, target_col = cname[2], prediction_col = cname[1], :\n",
      "\"'rsvg' is missing. Will not plot arrows and zero-shading.\"\n"
     ]
    },
    {
     "data": {
      "image/png": "[encoded data removed]",
      "text/plain": [
       "plot without title"
      ]
     },
     "metadata": {
      "image/png": {
       "height": 420,
       "width": 420
      }
     },
     "output_type": "display_data"
    },
    {
     "data": {
      "text/html": [
       "0.7898"
      ],
      "text/latex": [
       "0.7898"
      ],
      "text/markdown": [
       "0.7898"
      ],
      "text/plain": [
       "[1] 0.7898"
      ]
     },
     "metadata": {},
     "output_type": "display_data"
    },
    {
     "data": {
      "image/png": "[encoded data removed]",
      "text/plain": [
       "Plot with title \"Ratio of Yes and No in Predicted and Actual\""
      ]
     },
     "metadata": {
      "image/png": {
       "height": 420,
       "width": 420
      }
     },
     "output_type": "display_data"
    }
   ],
   "source": [
    "svm.fit=svm(Churn~.,data=train,kernel=\"radial\",gamma=0.1,cost=1)\n",
    "svm.predict=predict(svm.fit,crossval)\n",
    "t4 <- table(predicted_churn=svm.predict,actual_churn)\n",
    "t4\n",
    "f_cfm(t4)\n",
    "f_bar(svm.predict, actual_churn)\n",
    "round(mean(svm.predict==actual_churn),4)"
   ]
  },
  {
   "cell_type": "markdown",
   "id": "73e7d14f",
   "metadata": {},
   "source": [
    "We see that, SVM can give accurate churn prediction in 78.98% cases, which is the better than logistic regression and classification tree but worse than random forest."
   ]
  },
  {
   "cell_type": "markdown",
   "id": "40bc5d57",
   "metadata": {},
   "source": [
    "#  Choice of Best Model:"
   ]
  },
  {
   "cell_type": "markdown",
   "id": "6e08649c",
   "metadata": {},
   "source": [
    "We have used **_Misclassification Error Rate_** to choose the optimum model that we are going to use for future prediction purpose."
   ]
  },
  {
   "cell_type": "code",
   "execution_count": 53,
   "id": "e4d5c578",
   "metadata": {},
   "outputs": [
    {
     "data": {
      "text/html": [
       "'Misclassification Error Rate for Logistic Regression is 24.93 %'"
      ],
      "text/latex": [
       "'Misclassification Error Rate for Logistic Regression is 24.93 \\%'"
      ],
      "text/markdown": [
       "'Misclassification Error Rate for Logistic Regression is 24.93 %'"
      ],
      "text/plain": [
       "[1] \"Misclassification Error Rate for Logistic Regression is 24.93 %\""
      ]
     },
     "metadata": {},
     "output_type": "display_data"
    },
    {
     "data": {
      "text/html": [
       "'Misclassification Error Rate for Decision Tree is 22.44 %'"
      ],
      "text/latex": [
       "'Misclassification Error Rate for Decision Tree is 22.44 \\%'"
      ],
      "text/markdown": [
       "'Misclassification Error Rate for Decision Tree is 22.44 %'"
      ],
      "text/plain": [
       "[1] \"Misclassification Error Rate for Decision Tree is 22.44 %\""
      ]
     },
     "metadata": {},
     "output_type": "display_data"
    },
    {
     "data": {
      "text/html": [
       "'Misclassification Error Rate for Random Forest is 20.1 %'"
      ],
      "text/latex": [
       "'Misclassification Error Rate for Random Forest is 20.1 \\%'"
      ],
      "text/markdown": [
       "'Misclassification Error Rate for Random Forest is 20.1 %'"
      ],
      "text/plain": [
       "[1] \"Misclassification Error Rate for Random Forest is 20.1 %\""
      ]
     },
     "metadata": {},
     "output_type": "display_data"
    },
    {
     "data": {
      "text/html": [
       "'Misclassification Error Rate for SVM is 21.02 %'"
      ],
      "text/latex": [
       "'Misclassification Error Rate for SVM is 21.02 \\%'"
      ],
      "text/markdown": [
       "'Misclassification Error Rate for SVM is 21.02 %'"
      ],
      "text/plain": [
       "[1] \"Misclassification Error Rate for SVM is 21.02 %\""
      ]
     },
     "metadata": {},
     "output_type": "display_data"
    }
   ],
   "source": [
    "misclassification_rate_logistic=(mean(logistic.predict!=actual_churn))*100\n",
    "misclassification_rate_tree=(mean(tree.predict!=actual_churn))*100\n",
    "misclassification_rate_forest=(mean(rf.predict!=actual_churn))*100\n",
    "misclassification_rate_svm=(mean(svm.predict!=actual_churn))*100\n",
    "paste(\"Misclassification Error Rate for Logistic Regression is\",round(misclassification_rate_logistic,2),\"%\")\n",
    "paste(\"Misclassification Error Rate for Decision Tree is\",round(misclassification_rate_tree,2),\"%\")\n",
    "paste(\"Misclassification Error Rate for Random Forest is\",round(misclassification_rate_forest,2),\"%\")\n",
    "paste(\"Misclassification Error Rate for SVM is\",round(misclassification_rate_svm,2),\"%\")"
   ]
  },
  {
   "cell_type": "markdown",
   "id": "3eeccbcf",
   "metadata": {},
   "source": [
    "We can see that, **_Random Forest_** produces the lowest **_Misclassification Error Rate_** when applied on **_Cross Validation Set_**. So, we will use this model for future prediction."
   ]
  },
  {
   "cell_type": "markdown",
   "id": "09c6481f",
   "metadata": {},
   "source": [
    "#  Fitting the selected model (Random Forest) on Test Set:"
   ]
  },
  {
   "cell_type": "code",
   "execution_count": 55,
   "id": "cf33e06d",
   "metadata": {},
   "outputs": [
    {
     "data": {
      "text/plain": [
       "               actual.churn.test\n",
       "rf.predict.test  No Yes\n",
       "            No  462  98\n",
       "            Yes  48  97"
      ]
     },
     "metadata": {},
     "output_type": "display_data"
    },
    {
     "name": "stderr",
     "output_type": "stream",
     "text": [
      "Warning message in plot_confusion_matrix(cfm, target_col = cname[2], prediction_col = cname[1], :\n",
      "\"'ggimage' is missing. Will not plot arrows and zero-shading.\"\n",
      "Warning message in plot_confusion_matrix(cfm, target_col = cname[2], prediction_col = cname[1], :\n",
      "\"'rsvg' is missing. Will not plot arrows and zero-shading.\"\n"
     ]
    },
    {
     "data": {
      "image/png": "[encoded data removed]",
      "text/plain": [
       "plot without title"
      ]
     },
     "metadata": {
      "image/png": {
       "height": 420,
       "width": 420
      }
     },
     "output_type": "display_data"
    },
    {
     "data": {
      "text/html": [
       "'Misclassification Error Rate for final model is 20.71 %'"
      ],
      "text/latex": [
       "'Misclassification Error Rate for final model is 20.71 \\%'"
      ],
      "text/markdown": [
       "'Misclassification Error Rate for final model is 20.71 %'"
      ],
      "text/plain": [
       "[1] \"Misclassification Error Rate for final model is 20.71 %\""
      ]
     },
     "metadata": {},
     "output_type": "display_data"
    },
    {
     "data": {
      "image/png": "[encoded data removed]",
      "text/plain": [
       "Plot with title \"Ratio of Yes and No in Predicted and Actual\""
      ]
     },
     "metadata": {
      "image/png": {
       "height": 420,
       "width": 420
      }
     },
     "output_type": "display_data"
    }
   ],
   "source": [
    "actual.churn.test=test$Churn\n",
    "rf.predict.test=predict(rf.fit,test)\n",
    "t5 <- table(rf.predict.test,actual.churn.test)\n",
    "t5\n",
    "f_cfm(t5)\n",
    "f_bar(rf.predict.test, actual.churn.test)\n",
    "misclassification.final=mean(rf.predict.test!=actual.churn.test)*100\n",
    "paste(\"Misclassification Error Rate for final model is\",round(misclassification.final,2),\"%\")"
   ]
  },
  {
   "cell_type": "markdown",
   "id": "5da1cad7",
   "metadata": {},
   "source": [
    "We have also used ROC curve and the area under the curve to assess the final model accuracy."
   ]
  },
  {
   "cell_type": "code",
   "execution_count": 58,
   "id": "49321e5e",
   "metadata": {},
   "outputs": [
    {
     "name": "stderr",
     "output_type": "stream",
     "text": [
      "Setting levels: control = No, case = Yes\n",
      "\n",
      "Setting direction: controls < cases\n",
      "\n"
     ]
    },
    {
     "data": {
      "text/html": [
       "'Area under the curve is 0.84'"
      ],
      "text/latex": [
       "'Area under the curve is 0.84'"
      ],
      "text/markdown": [
       "'Area under the curve is 0.84'"
      ],
      "text/plain": [
       "[1] \"Area under the curve is 0.84\""
      ]
     },
     "metadata": {},
     "output_type": "display_data"
    },
    {
     "data": {
      "image/png": "[encoded data removed]",
      "text/plain": [
       "plot without title"
      ]
     },
     "metadata": {
      "image/png": {
       "height": 420,
       "width": 420
      }
     },
     "output_type": "display_data"
    }
   ],
   "source": [
    "rf.predict=predict(rf.fit,test,type=\"prob\")\n",
    "ROC=roc(test$Churn, rf.predict[,2])\n",
    "plot(ROC,col=\"blue\")\n",
    "paste(\"Area under the curve is\",round(auc(ROC),2))"
   ]
  },
  {
   "cell_type": "markdown",
   "id": "1524de2e",
   "metadata": {},
   "source": [
    "We can see that the area under the curve is 0.84 which is close to 1, which indicates the model performance on new data is pretty good."
   ]
  },
  {
   "cell_type": "markdown",
   "id": "bad52350",
   "metadata": {},
   "source": [
    "#  Conclusion:"
   ]
  },
  {
   "cell_type": "markdown",
   "id": "f6203821",
   "metadata": {},
   "source": [
    "From our above analysis, we can see that **Logistic Regression**, **Classification Tree**, **Random Forest**, **SVM** can be used to predict whether a customer will churn or not. Among these classifiers, **Random Forest** gives the best performance, so it will be beneficial to use this model.\n",
    "\n",
    "Customer churn analysis allows to minimize acquisition costs and increase marketing efficiency, preparing a solid base for future marketing analysis and campaigns. Customer churn analysis opens new opportunities for cross-selling and upselling and serves as one of the starting points for customer-driven product development, keeping customers engaged and loyal over time."
   ]
  },
  {
   "cell_type": "code",
   "execution_count": null,
   "id": "c8269284",
   "metadata": {},
   "outputs": [],
   "source": []
  }
 ],
 "metadata": {
  "kernelspec": {
   "display_name": "R",
   "language": "R",
   "name": "ir"
  },
  "language_info": {
   "codemirror_mode": "r",
   "file_extension": ".r",
   "mimetype": "text/x-r-source",
   "name": "R",
   "pygments_lexer": "r",
   "version": "4.1.1"
  }
 },
 "nbformat": 4,
 "nbformat_minor": 5
}
